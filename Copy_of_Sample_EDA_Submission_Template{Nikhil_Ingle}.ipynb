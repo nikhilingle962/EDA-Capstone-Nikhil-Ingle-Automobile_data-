{
  "nbformat": 4,
  "nbformat_minor": 0,
  "metadata": {
    "colab": {
      "private_outputs": true,
      "provenance": [],
      "collapsed_sections": [
        "vncDsAP0Gaoa",
        "FJNUwmbgGyua",
        "w6K7xa23Elo4",
        "yQaldy8SH6Dl",
        "PH-0ReGfmX4f",
        "mDgbUHAGgjLW",
        "O_i_v8NEhb9l",
        "HhfV-JJviCcP",
        "Y3lxredqlCYt",
        "3RnN4peoiCZX",
        "x71ZqKXriCWQ",
        "7hBIi_osiCS2",
        "JlHwYmJAmNHm",
        "35m5QtbWiB9F",
        "PoPl-ycgm1ru",
        "H0kj-8xxnORC",
        "nA9Y7ga8ng1Z",
        "PBTbrJXOngz2",
        "u3PMJOP6ngxN",
        "dauF4eBmngu3",
        "bKJF3rekwFvQ",
        "MSa1f5Uengrz",
        "GF8Ens_Soomf",
        "0wOQAZs5pc--",
        "K5QZ13OEpz2H",
        "lQ7QKXXCp7Bj",
        "448CDAPjqfQr",
        "KSlN3yHqYklG",
        "t6dVpIINYklI",
        "ijmpgYnKYklI",
        "-JiQyfWJYklI",
        "EM7whBJCYoAo",
        "fge-S5ZAYoAp",
        "85gYPyotYoAp",
        "RoGjAbkUYoAp",
        "4Of9eVA-YrdM",
        "iky9q4vBYrdO",
        "F6T5p64dYrdO",
        "y-Ehk30pYrdP",
        "bamQiAODYuh1",
        "QHF8YVU7Yuh3",
        "GwzvFGzlYuh3",
        "qYpmQ266Yuh3",
        "OH-pJp9IphqM",
        "bbFf2-_FphqN",
        "_ouA3fa0phqN",
        "Seke61FWphqN",
        "PIIx-8_IphqN",
        "t27r6nlMphqO",
        "r2jJGEOYphqO",
        "b0JNsNcRphqO",
        "BZR9WyysphqO",
        "jj7wYXLtphqO",
        "eZrbJ2SmphqO",
        "rFu4xreNphqO",
        "YJ55k-q6phqO",
        "gCFgpxoyphqP",
        "OVtJsKN_phqQ",
        "lssrdh5qphqQ",
        "U2RJ9gkRphqQ",
        "1M8mcRywphqQ",
        "tgIPom80phqQ",
        "JMzcOPDDphqR",
        "x-EpHcCOp1ci",
        "X_VqEhTip1ck",
        "8zGJKyg5p1ck",
        "PVzmfK_Ep1ck",
        "n3dbpmDWp1ck",
        "ylSl6qgtp1ck",
        "ZWILFDl5p1ck",
        "M7G43BXep1ck",
        "Ag9LCva-p1cl",
        "E6MkPsBcp1cl",
        "2cELzS2fp1cl",
        "3MPXvC8up1cl",
        "NC_X3p0fY2L0",
        "UV0SzAkaZNRQ",
        "YPEH6qLeZNRQ",
        "q29F0dvdveiT",
        "EXh0U9oCveiU",
        "22aHeOlLveiV",
        "JcMwzZxoAimU",
        "8G2x9gOozGDZ",
        "gCX9965dhzqZ",
        "gIfDvo9L0UH2"
      ]
    },
    "kernelspec": {
      "name": "python3",
      "display_name": "Python 3"
    },
    "language_info": {
      "name": "python"
    }
  },
  "cells": [
    {
      "cell_type": "markdown",
      "source": [
        "# **Project Name**    - Automobile Data\n",
        "\n"
      ],
      "metadata": {
        "id": "vncDsAP0Gaoa"
      }
    },
    {
      "cell_type": "markdown",
      "source": [
        "##### **Project Type**    - EDA\n",
        "##### **Contribution**    - Individual\n"
      ],
      "metadata": {
        "id": "beRrZCGUAJYm"
      }
    },
    {
      "cell_type": "markdown",
      "source": [
        "# **Project Summary -**"
      ],
      "metadata": {
        "id": "FJNUwmbgGyua"
      }
    },
    {
      "cell_type": "markdown",
      "source": [
        "Write the summary here within 500-600 words."
      ],
      "metadata": {
        "id": "F6v_1wHtG2nS"
      }
    },
    {
      "cell_type": "markdown",
      "source": [
        "The automotive industry is a pivotal part of the global economy, influencing manufacturing processes, consumer behavior, and technological advancements. This project focuses on performing an Exploratory Data Analysis (EDA) on a comprehensive automobile dataset to discover patterns, relationships, and valuable insights that can assist manufacturers, policymakers, and consumers in making informed decisions."
      ],
      "metadata": {
        "id": "0WrvpIQerIHi"
      }
    },
    {
      "cell_type": "markdown",
      "source": [
        "# **GitHub Link -**"
      ],
      "metadata": {
        "id": "w6K7xa23Elo4"
      }
    },
    {
      "cell_type": "markdown",
      "source": [
        "Provide your GitHub Link here." @ "https://github.com/nikhilingle962/EDA-Capstone-Nikhil-Ingle-Automobile_data-.git"
      ],
      "metadata": {
        "id": "h1o69JH3Eqqn"
      }
    },
    {
      "cell_type": "markdown",
      "source": [
        "# **Problem Statement**\n"
      ],
      "metadata": {
        "id": "yQaldy8SH6Dl"
      }
    },
    {
      "cell_type": "markdown",
      "source": [
        "**Write Problem Statement Here.**"
      ],
      "metadata": {
        "id": "DpeJGUA3kjGy"
      }
    },
    {
      "cell_type": "markdown",
      "source": [
        "## Problem Statement\n",
        "\n",
        "The automotive industry is continuously evolving, driven by advancements in technology, changing consumer preferences, and regulatory requirements. To stay competitive, stakeholders in the industry need to make informed decisions based on comprehensive data analysis. However, the vast amount of data available can be overwhelming and challenging to interpret without systematic analysis. This project aims to address this challenge by conducting an Exploratory Data Analysis (EDA) on an extensive dataset of automobiles. The goal is to uncover patterns, relationships, and key insights that will help manufacturers optimize vehicle design and pricing, enable policymakers to understand market dynamics and consumer behavior, and empower consumers to make better-informed purchasing decisions."
      ],
      "metadata": {
        "id": "Chy-Bsa3rO3W"
      }
    },
    {
      "cell_type": "markdown",
      "source": [
        "#### **Define Your Business Objective?**"
      ],
      "metadata": {
        "id": "PH-0ReGfmX4f"
      }
    },
    {
      "cell_type": "markdown",
      "source": [
        "## Business Objective\n",
        "\n",
        "The primary business objective of this project is to leverage Exploratory Data Analysis (EDA) on automobile data to enhance decision-making across various stakeholders in the automotive industry. By uncovering actionable insights and identifying key trends, the project aims to:\n",
        "\n",
        "1. **Inform Manufacturers:** Help automotive manufacturers optimize vehicle design, feature sets, and pricing strategies based on data-driven insights into market trends and consumer preferences.\n",
        "2. **Guide Policymakers:** Provide policymakers with a deeper understanding of market dynamics and consumer behavior to inform regulations, standards, and incentives that promote innovation and consumer protection.\n",
        "3. **Empower Consumers:** Enable consumers to make more informed purchasing decisions by highlighting critical factors that influence vehicle performance, safety, and cost.\n",
        "\n",
        "Through systematic analysis and visualization of the automobile dataset, the project seeks to deliver valuable information that can drive strategic actions, foster innovation, and improve overall market efficiency in the automotive industry."
      ],
      "metadata": {
        "id": "PhDvGCAqmjP1"
      }
    },
    {
      "cell_type": "markdown",
      "source": [
        "# **General Guidelines** : -  "
      ],
      "metadata": {
        "id": "mDgbUHAGgjLW"
      }
    },
    {
      "cell_type": "markdown",
      "source": [
        "1.   Well-structured, formatted, and commented code is required.\n",
        "2.   Exception Handling, Production Grade Code & Deployment Ready Code will be a plus. Those students will be awarded some additional credits.\n",
        "     \n",
        "     The additional credits will have advantages over other students during Star Student selection.\n",
        "       \n",
        "             [ Note: - Deployment Ready Code is defined as, the whole .ipynb notebook should be executable in one go\n",
        "                       without a single error logged. ]\n",
        "\n",
        "3.   Each and every logic should have proper comments.\n",
        "4. You may add as many number of charts you want. Make Sure for each and every chart the following format should be answered.\n",
        "        \n",
        "\n",
        "```\n",
        "# Chart visualization code\n",
        "```\n",
        "            \n",
        "\n",
        "*   Why did you pick the specific chart?\n",
        "*   What is/are the insight(s) found from the chart?\n",
        "* Will the gained insights help creating a positive business impact?\n",
        "Are there any insights that lead to negative growth? Justify with specific reason.\n",
        "\n",
        "5. You have to create at least 20 logical & meaningful charts having important insights.\n",
        "\n",
        "\n",
        "[ Hints : - Do the Vizualization in  a structured way while following \"UBM\" Rule.\n",
        "\n",
        "U - Univariate Analysis,\n",
        "\n",
        "B - Bivariate Analysis (Numerical - Categorical, Numerical - Numerical, Categorical - Categorical)\n",
        "\n",
        "M - Multivariate Analysis\n",
        " ]\n",
        "\n",
        "\n",
        "\n"
      ],
      "metadata": {
        "id": "ZrxVaUj-hHfC"
      }
    },
    {
      "cell_type": "markdown",
      "source": [
        "# ***Let's Begin !***"
      ],
      "metadata": {
        "id": "O_i_v8NEhb9l"
      }
    },
    {
      "cell_type": "markdown",
      "source": [
        "## ***1. Know Your Data***"
      ],
      "metadata": {
        "id": "HhfV-JJviCcP"
      }
    },
    {
      "cell_type": "markdown",
      "source": [
        "### Import Libraries"
      ],
      "metadata": {
        "id": "Y3lxredqlCYt"
      }
    },
    {
      "cell_type": "code",
      "source": [
        "# Import Libraries\n",
        "import numpy as np\n",
        "import pandas as pd\n",
        "import seaborn as sns\n",
        "import matplotlib.pyplot as plt\n",
        "%matplotlib inline\n"
      ],
      "metadata": {
        "id": "M8Vqi-pPk-HR"
      },
      "execution_count": null,
      "outputs": []
    },
    {
      "cell_type": "markdown",
      "source": [
        "### Dataset Loading"
      ],
      "metadata": {
        "id": "3RnN4peoiCZX"
      }
    },
    {
      "cell_type": "code",
      "source": [
        "# Load Dataset\n",
        "df = pd.read_csv('/content/drive/MyDrive/Colab Notebooks/automobile_data.csv')"
      ],
      "metadata": {
        "id": "4CkvbW_SlZ_R"
      },
      "execution_count": null,
      "outputs": []
    },
    {
      "cell_type": "code",
      "source": [
        "from google.colab import drive\n",
        "drive.mount('/content/drive')"
      ],
      "metadata": {
        "id": "Fg2MOBGB4dq4"
      },
      "execution_count": null,
      "outputs": []
    },
    {
      "cell_type": "markdown",
      "source": [
        "### Dataset First View"
      ],
      "metadata": {
        "id": "x71ZqKXriCWQ"
      }
    },
    {
      "cell_type": "code",
      "source": [
        "# Dataset First Look\n",
        "df.head()"
      ],
      "metadata": {
        "id": "LWNFOSvLl09H"
      },
      "execution_count": null,
      "outputs": []
    },
    {
      "cell_type": "markdown",
      "source": [
        "### Dataset Rows & Columns count"
      ],
      "metadata": {
        "id": "7hBIi_osiCS2"
      }
    },
    {
      "cell_type": "code",
      "source": [
        "# Dataset Rows & Columns count\n",
        "df.shape"
      ],
      "metadata": {
        "id": "Kllu7SJgmLij"
      },
      "execution_count": null,
      "outputs": []
    },
    {
      "cell_type": "code",
      "source": [
        "list(df)"
      ],
      "metadata": {
        "id": "oGIkpOCqtpdM"
      },
      "execution_count": null,
      "outputs": []
    },
    {
      "cell_type": "code",
      "source": [
        "df.dtypes"
      ],
      "metadata": {
        "id": "FOYTIK-9tx9Q"
      },
      "execution_count": null,
      "outputs": []
    },
    {
      "cell_type": "markdown",
      "source": [
        "### Dataset Information"
      ],
      "metadata": {
        "id": "JlHwYmJAmNHm"
      }
    },
    {
      "cell_type": "code",
      "source": [
        "# Dataset Info\n",
        "df.info()"
      ],
      "metadata": {
        "id": "e9hRXRi6meOf"
      },
      "execution_count": null,
      "outputs": []
    },
    {
      "cell_type": "markdown",
      "source": [
        "#### Duplicate Values"
      ],
      "metadata": {
        "id": "35m5QtbWiB9F"
      }
    },
    {
      "cell_type": "code",
      "source": [
        "# Dataset Duplicate Value Count\n",
        "df.duplicated().sum()"
      ],
      "metadata": {
        "id": "Ught9FU4uYq8"
      },
      "execution_count": null,
      "outputs": []
    },
    {
      "cell_type": "markdown",
      "source": [
        "#### Missing Values/Null Values"
      ],
      "metadata": {
        "id": "PoPl-ycgm1ru"
      }
    },
    {
      "cell_type": "code",
      "source": [
        "# Missing Values/Null Values Count\n"
      ],
      "metadata": {
        "id": "GgHWkxvamxVg"
      },
      "execution_count": null,
      "outputs": []
    },
    {
      "cell_type": "code",
      "source": [
        "# Visualizing the missing values\n",
        "df.isnull().sum()"
      ],
      "metadata": {
        "id": "3q5wnI3om9sJ"
      },
      "execution_count": null,
      "outputs": []
    },
    {
      "cell_type": "markdown",
      "source": [
        "### What did you know about your dataset?"
      ],
      "metadata": {
        "id": "H0kj-8xxnORC"
      }
    },
    {
      "cell_type": "markdown",
      "source": [
        "The above dataset has 205 rows and 26 columns. There are no mising values and duplicate values in the dataset.\n",
        "\n",
        "The automobile dataset provided contains comprehensive information about various car models, including their specifications, features, and pricing. This dataset is widely used for data analysis and machine learning tasks. Here’s a detailed breakdown of the dataset:\n",
        "\n",
        "1-symboling: An insurance risk rating, which ranges from -3 to +3. Cars with a higher symboling are considered more risky.\n",
        "2-make: The brand or manufacturer of the car (e.g.,BMW,Audi,skoda,VW,etc).\n",
        "3-fuel-type: Indicates the type of fuel used by the car, either gas or diesel.\n",
        "4-body-style: The style of the car’s body, such as convertible, hatchback, sedan, wagon, or hardtop.\n",
        "and much more........\n",
        "\n",
        "\n"
      ],
      "metadata": {
        "id": "gfoNAAC-nUe_"
      }
    },
    {
      "cell_type": "markdown",
      "source": [
        "## ***2. Understanding Your Variables***"
      ],
      "metadata": {
        "id": "nA9Y7ga8ng1Z"
      }
    },
    {
      "cell_type": "code",
      "source": [
        "# Dataset Columns\n",
        "df.columns"
      ],
      "metadata": {
        "id": "j7xfkqrt5Ag5"
      },
      "execution_count": null,
      "outputs": []
    },
    {
      "cell_type": "code",
      "source": [
        "# Dataset Describe\n",
        "df.describe()"
      ],
      "metadata": {
        "id": "DnOaZdaE5Q5t"
      },
      "execution_count": null,
      "outputs": []
    },
    {
      "cell_type": "markdown",
      "source": [
        "### Variables Description"
      ],
      "metadata": {
        "id": "PBTbrJXOngz2"
      }
    },
    {
      "cell_type": "markdown",
      "source": [
        "* **symboling                :**\n",
        "Insurance risk rating of the car.\n",
        "* **normalized-losses       :** Normalized average loss payment per insured vehicle year.\n",
        "\n",
        "* **make            :** Brand or manufacturer of the car.\n",
        "\n",
        "* **fuel-type           :** Type of fuel used by the car.\n",
        "\n",
        "* **aspiration           :**  Engine aspiration method.\n",
        "\n",
        "* **num-of-doors        :** Number of doors in the car.\n",
        "\n",
        "* **body-style             :** Style of the car’s body.\n",
        "\n",
        "* **drive-wheels**         : Type of drivetrain.\n",
        "\n",
        "* **engine-location**         : Location of the car's engine.\n",
        "\n",
        "* **wheel-base**          : Distance between the front and rear wheels.\n",
        "\n",
        "* **length**          : Overall length of the car.\n",
        "\n",
        "* **width            :** Overall width of the car.\n",
        "\n",
        "* **height            :** Overall height of the car.\n",
        "\n",
        "* **curb-weight            :** Weight of the car without passengers or cargo.\n",
        "\n",
        "* **engine-type            :** Type of engine used in the car.\n",
        "\n",
        "* **num-of-cylinders            :** Number of cylinders in the car's engine.\n",
        "\n",
        "* **engine-size            :** Size of the car’s engine.\n",
        "\n",
        "* **fuel-system            :** Fuel system used by the car.\n",
        "\n",
        "* **bore            :** Diameter of the cylinder in the engine.\n",
        "\n",
        "* **stroke            :** Length of the piston’s travel inside the cylinder.\n",
        "\n",
        "* **compression-ratio            :** Ratio of the volume of the combustion chamber from its largest capacity to its smallest capacity.\n",
        "\n",
        "* **horsepower            :** Power output of the car’s engine.\n",
        "\n",
        "* **peak-rpm            :** Maximum revolutions per minute (RPM) of the engine.\n",
        "\n",
        "* **city-mpg            :** Fuel efficiency in miles per gallon (MPG) in city driving conditions.\n",
        "\n",
        "* **highway-mpg            :** Fuel efficiency in miles per gallon (MPG) in highway driving conditions.\n",
        "\n",
        "* **price            :** Price of the car.\n"
      ],
      "metadata": {
        "id": "mzLgzNEtFmID"
      }
    },
    {
      "cell_type": "markdown",
      "source": [
        "<!-- Variable Descriptions\n",
        "\n",
        "@symboling:\n",
        "Description: Insurance risk rating of the car.\n",
        "Type: Integer\n",
        "Range: -3 to +3 (higher values indicate higher risk)\n",
        "\n",
        "@normalized-losses:\n",
        "Description: Normalized average loss payment per insured vehicle year.\n",
        "Type: Integer\n",
        "Note: Some values are missing and represented by '?'.\n",
        "\n",
        "@make:\n",
        "Description: Brand or manufacturer of the car.\n",
        "Type: Categorical (e.g., Alfa-Romeo, Audi)\n",
        "\n",
        "@fuel-type:\n",
        "Description: Type of fuel used by the car.\n",
        "Type: Categorical (gas, diesel)\n",
        "aspiration:\n",
        "\n",
        "Description: Engine aspiration method.\n",
        "Type: Categorical (std for standard, turbo for turbocharged)\n",
        "num-of-doors:\n",
        "\n",
        "Description: Number of doors in the car.\n",
        "Type: Categorical (two, four)\n",
        "body-style:\n",
        "\n",
        "Description: Style of the car’s body.\n",
        "Type: Categorical (convertible, hatchback, sedan, wagon, hardtop)\n",
        "drive-wheels:\n",
        "\n",
        "Description: Type of drivetrain.\n",
        "Type: Categorical (fwd for front-wheel drive, rwd for rear-wheel drive, 4wd for four-wheel drive)\n",
        "engine-location:\n",
        "\n",
        "Description: Location of the car's engine.\n",
        "Type: Categorical (front, rear)\n",
        "wheel-base:\n",
        "\n",
        "Description: Distance between the front and rear wheels.\n",
        "Type: Numeric (float)\n",
        "Unit: Inches\n",
        "length:\n",
        "\n",
        "Description: Overall length of the car.\n",
        "Type: Numeric (float)\n",
        "Unit: Inches\n",
        "width:\n",
        "\n",
        "Description: Overall width of the car.\n",
        "Type: Numeric (float)\n",
        "Unit: Inches\n",
        "height:\n",
        "\n",
        "Description: Overall height of the car.\n",
        "Type: Numeric (float)\n",
        "Unit: Inches\n",
        "curb-weight:\n",
        "\n",
        "Description: Weight of the car without passengers or cargo.\n",
        "Type: Numeric (integer)\n",
        "Unit: Pounds\n",
        "engine-type:\n",
        "\n",
        "Description: Type of engine used in the car.\n",
        "Type: Categorical (e.g., DOHC, OHCV, L, etc.)\n",
        "num-of-cylinders:\n",
        "\n",
        "Description: Number of cylinders in the car's engine.\n",
        "Type: Categorical (e.g., four, six, eight)\n",
        "engine-size:\n",
        "\n",
        "Description: Size of the car’s engine.\n",
        "Type: Numeric (integer)\n",
        "Unit: Cubic inches or centimeters\n",
        "fuel-system:\n",
        "\n",
        "Description: Fuel system used by the car.\n",
        "Type: Categorical (e.g., MPFI, 2BBL, 4BBL, etc.)\n",
        "bore:\n",
        "\n",
        "Description: Diameter of the cylinder in the engine.\n",
        "Type: Numeric (float)\n",
        "Unit: Inches\n",
        "stroke:\n",
        "\n",
        "Description: Length of the piston’s travel inside the cylinder.\n",
        "Type: Numeric (float)\n",
        "Unit: Inches\n",
        "compression-ratio:\n",
        "\n",
        "Description: Ratio of the volume of the combustion chamber from its largest capacity to its smallest capacity.\n",
        "Type: Numeric (float)\n",
        "horsepower:\n",
        "\n",
        "Description: Power output of the car’s engine.\n",
        "Type: Numeric (integer)\n",
        "Unit: Horsepower (HP)\n",
        "peak-rpm:\n",
        "\n",
        "Description: Maximum revolutions per minute (RPM) of the engine.\n",
        "Type: Numeric (integer)\n",
        "city-mpg:\n",
        "\n",
        "Description: Fuel efficiency in miles per gallon (MPG) in city driving conditions.\n",
        "Type: Numeric (integer)\n",
        "Unit: Miles per gallon (MPG)\n",
        "highway-mpg:\n",
        "\n",
        "Description: Fuel efficiency in miles per gallon (MPG) in highway driving conditions.\n",
        "Type: Numeric (integer)\n",
        "Unit: Miles per gallon (MPG)\n",
        "price:\n",
        "\n",
        "Description: Price of the car.\n",
        "Type: Numeric (integer)\n",
        "Unit: US Dollars -->"
      ],
      "metadata": {
        "id": "aJV4KIxSnxay"
      }
    },
    {
      "cell_type": "markdown",
      "source": [
        "### Check Unique Values for each variable."
      ],
      "metadata": {
        "id": "u3PMJOP6ngxN"
      }
    },
    {
      "cell_type": "code",
      "source": [
        "# Check Unique Values for each variable.\n",
        "df.apply(lambda x: x.unique())"
      ],
      "metadata": {
        "id": "zms12Yq5n-jE"
      },
      "execution_count": null,
      "outputs": []
    },
    {
      "cell_type": "markdown",
      "source": [
        "## 3. ***Data Wrangling***"
      ],
      "metadata": {
        "id": "dauF4eBmngu3"
      }
    },
    {
      "cell_type": "markdown",
      "source": [
        "### Data Wrangling Code"
      ],
      "metadata": {
        "id": "bKJF3rekwFvQ"
      }
    },
    {
      "cell_type": "code",
      "source": [
        "# Write your code to make your dataset analysis ready.\n",
        "df.replace('?', pd.NA, inplace=True)"
      ],
      "metadata": {
        "id": "wk-9a2fpoLcV"
      },
      "execution_count": null,
      "outputs": []
    },
    {
      "cell_type": "code",
      "source": [
        "df['normalized-losses'] = pd.to_numeric(df['normalized-losses'], errors='coerce')\n",
        "df['bore'] = pd.to_numeric(df['bore'], errors='coerce')\n",
        "df['stroke'] = pd.to_numeric(df['stroke'], errors='coerce')\n",
        "df['horsepower'] = pd.to_numeric(df['horsepower'], errors='coerce')\n",
        "df['peak-rpm'] = pd.to_numeric(df['peak-rpm'], errors='coerce')\n",
        "df['price'] = pd.to_numeric(df['price'], errors='coerce')"
      ],
      "metadata": {
        "id": "O7T9gmzwEBXZ"
      },
      "execution_count": null,
      "outputs": []
    },
    {
      "cell_type": "code",
      "source": [
        "numeric_columns = ['normalized-losses', 'bore', 'stroke', 'horsepower', 'peak-rpm', 'price']\n",
        "for column in numeric_columns:\n",
        "    df[column] = pd.to_numeric(df[column])"
      ],
      "metadata": {
        "id": "Afg0_E4FB1eQ"
      },
      "execution_count": null,
      "outputs": []
    },
    {
      "cell_type": "code",
      "source": [
        "df.columns = df.columns.str.strip()"
      ],
      "metadata": {
        "id": "M4Zo6I1wCdpj"
      },
      "execution_count": null,
      "outputs": []
    },
    {
      "cell_type": "code",
      "source": [
        "df['num-of-doors'] = df['num-of-doors'].replace({'two': 2, 'four': 4})"
      ],
      "metadata": {
        "id": "jrPMe5zUCf7S"
      },
      "execution_count": null,
      "outputs": []
    },
    {
      "cell_type": "code",
      "source": [
        "def convert_columns_to_float(df, columns):\n",
        "    \"\"\"\n",
        "    Converts specified columns in the DataFrame from string to float.\n",
        "\n",
        "    Parameters:\n",
        "    df (DataFrame): The DataFrame containing the data to be converted.\n",
        "    columns (list): List of column names to be converted to float.\n",
        "\n",
        "    Returns:\n",
        "    DataFrame: The DataFrame with specified columns converted to float.\n",
        "    \"\"\"\n",
        "    for column in columns:\n",
        "        df[column] = df[column].astype(float)\n",
        "    return df"
      ],
      "metadata": {
        "id": "i2swsCgP0kFr"
      },
      "execution_count": null,
      "outputs": []
    },
    {
      "cell_type": "code",
      "source": [
        "df.head()"
      ],
      "metadata": {
        "id": "m3gUV7yiauLz"
      },
      "execution_count": null,
      "outputs": []
    },
    {
      "cell_type": "code",
      "source": [
        "df['make'].value_counts()"
      ],
      "metadata": {
        "id": "5LbLPSIiAKOn"
      },
      "execution_count": null,
      "outputs": []
    },
    {
      "cell_type": "code",
      "source": [
        "df.info()"
      ],
      "metadata": {
        "id": "ha-SDrJ0EYMY"
      },
      "execution_count": null,
      "outputs": []
    },
    {
      "cell_type": "markdown",
      "source": [
        "### What all manipulations have you done and insights you found?"
      ],
      "metadata": {
        "id": "MSa1f5Uengrz"
      }
    },
    {
      "cell_type": "markdown",
      "source": [
        "\n",
        "### Manipulations:\n",
        "\n",
        "1. **Replace '?' with NaN:**\n",
        "   - **Reason:** '?' is used to represent missing values in the dataset. Converting these to `NaN` (Not a Number) helps in handling them appropriately using pandas' built-in methods.\n",
        "\n",
        "2. **Convert columns to appropriate data types:**\n",
        "   - **Columns converted to numeric:** `normalized-losses`, `bore`, `stroke`, `horsepower`, `peak-rpm`, `price`\n",
        "   - **Reason:** These columns contain numerical data but might have been read as strings due to the presence of '?'.\n",
        "\n",
        "\n",
        "\n",
        "3. **Convert 'num-of-doors' to integers:**\n",
        "   - **Reason:** The `num-of-doors` column contains string representations of numbers ('two' and 'four'). Converting these to integers (2 and 4) makes them more useful for analysis.\n",
        "\n",
        "4. **Ensure all other columns are of appropriate types:**\n",
        "   - **Reason:** This ensures that each column is in the correct data type, which is essential for accurate data analysis and manipulation.\n",
        "\n",
        "### Insights:\n",
        "\n",
        "1. **Data Completeness:**\n",
        "   - By replacing missing values with the mean (for numerical columns) and the mode (for categorical columns), the dataset becomes complete, allowing for comprehensive analysis without the need for further handling of missing data.\n",
        "\n",
        "2. **Consistency in Data Types:**\n",
        "   - Converting columns to their appropriate data types ensures that the dataset is consistent and ready for numerical computations and categorical analyses.\n",
        "\n",
        "3. **Numerical Column Mean Values:**\n",
        "   - Understanding the mean values used to fill missing data can give insights into the central tendency of those columns.\n",
        "\n",
        "4. **Mode for 'num-of-doors':**\n",
        "   - The mode gives an idea of the most common number of doors in the vehicles, which might be a significant characteristic in understanding the types of cars predominantly present in the dataset.\n",
        "\n"
      ],
      "metadata": {
        "id": "LcemTGAhE7Tr"
      }
    },
    {
      "cell_type": "markdown",
      "source": [
        "## ***4. Data Vizualization, Storytelling & Experimenting with charts : Understand the relationships between variables***"
      ],
      "metadata": {
        "id": "GF8Ens_Soomf"
      }
    },
    {
      "cell_type": "markdown",
      "source": [
        "#### Chart - 1"
      ],
      "metadata": {
        "id": "0wOQAZs5pc--"
      }
    },
    {
      "cell_type": "code",
      "source": [
        "k = df['make'].value_counts()"
      ],
      "metadata": {
        "id": "V_NvOX1FAuNJ"
      },
      "execution_count": null,
      "outputs": []
    },
    {
      "cell_type": "code",
      "source": [
        "k"
      ],
      "metadata": {
        "id": "dHI6V9rbAyr1"
      },
      "execution_count": null,
      "outputs": []
    },
    {
      "cell_type": "code",
      "source": [
        "plt.rcParams['figure.figsize'] = (14,5)"
      ],
      "metadata": {
        "id": "D9KKBRJ5A4Pq"
      },
      "execution_count": null,
      "outputs": []
    },
    {
      "cell_type": "code",
      "source": [
        "k.plot(kind = 'pie', autopct='%1.1f%%')\n",
        "\n",
        "plt.title('Brands of Cars Company- Distribution')\n",
        "plt.xlabel('car brands')\n",
        "plt.ylabel('Total-Counts')"
      ],
      "metadata": {
        "id": "HdepPu-7A7qG"
      },
      "execution_count": null,
      "outputs": []
    },
    {
      "cell_type": "code",
      "source": [
        "plt.xticks(rotation=40)\n",
        "sns.lineplot(df['make'].value_counts())\n"
      ],
      "metadata": {
        "id": "66LfgMp1CDX_"
      },
      "execution_count": null,
      "outputs": []
    },
    {
      "cell_type": "markdown",
      "source": [
        "##### 1. Why did you pick the specific chart?"
      ],
      "metadata": {
        "id": "K5QZ13OEpz2H"
      }
    },
    {
      "cell_type": "markdown",
      "source": [
        "Bar charts show the Make - Distribution and counts of cars,comparison across categories,clarity and simplicity,aggregate information"
      ],
      "metadata": {
        "id": "XESiWehPqBRc"
      }
    },
    {
      "cell_type": "markdown",
      "source": [
        "##### 2. What is/are the insight(s) found from the chart?"
      ],
      "metadata": {
        "id": "lQ7QKXXCp7Bj"
      }
    },
    {
      "cell_type": "markdown",
      "source": [
        "Insights from the Car Make Distribution Chart\n",
        "1. Popularity of Car Brands\n",
        "\n",
        "2. Market Representation\n",
        "\n",
        "3. Potential Bias in Data Collection\n",
        "\n",
        "4. Market Analysis\n",
        "\n",
        "5. Data Focus for Further Analysis\n",
        "\n",
        "Example of Possible Distribution (Hypothetical)\n",
        "\n",
        "\n",
        "\n",
        "@Top Makes: Toyota, Honda, Ford (most common)\n",
        "\n",
        "@Moderate Makes: BMW, Audi, Mercedes-Benz\n",
        "\n",
        "@Rare Makes: Alfa Romeo, Isuzu, Peugeot (least common)"
      ],
      "metadata": {
        "id": "C_j1G7yiqdRP"
      }
    },
    {
      "cell_type": "markdown",
      "source": [
        "##### 3. Will the gained insights help creating a positive business impact?\n",
        "Are there any insights that lead to negative growth? Justify with specific reason."
      ],
      "metadata": {
        "id": "448CDAPjqfQr"
      }
    },
    {
      "cell_type": "markdown",
      "source": [
        "\n",
        "\n",
        "### Positive Business Impact\n",
        "\n",
        "1. **Market Demand Identification**\n",
        "   \n",
        "\n",
        "2. **Inventory Optimization**\n",
        "\n",
        "\n",
        "3. **Tailored Marketing Strategies:**\n",
        "   - **Brand-Specific Campaigns**\n",
        "\n",
        "4. **Customer Preference Insights:**\n",
        "   - **Consumer Trends:**\n",
        "\n",
        "### Negative Growth Indicators\n",
        "\n",
        "1. **Over-Saturation Risk:**\n",
        "   - **High Competition**\n",
        "   \n",
        "2. **Dependency on Limited Brands**\n",
        "   \n",
        "\n",
        "3. **Ignoring Niche Opportunities:**\n",
        "   - **Missed Niche Markets**\n",
        "\n",
        "4. **Market Shifts:**\n",
        "   - **Changing Trends**\n",
        "   - **Example:** If trends shift toward electric vehicles and a dealership focuses too much on traditional gasoline models based on past data, it could lead to a decline in sales.\n",
        "\n",
        "### Justification with Specific Reason:\n",
        "\n",
        "- **Positive Impact Justification:** By aligning business strategies with the insights gained from the distribution of car makes, companies can better meet customer demands, optimize inventory, and tailor marketing efforts, resulting in improved sales and customer satisfaction.\n",
        "- **Negative Growth Justification:** Ignoring market dynamics, over-relying on a few popular brands, or failing to diversify can lead to vulnerabilities. Businesses need to adapt to market changes and explore diverse opportunities to sustain growth and avoid potential declines.\n",
        "\n"
      ],
      "metadata": {
        "id": "XrqcBv1UICws"
      }
    },
    {
      "cell_type": "markdown",
      "source": [
        "#### Chart - 2"
      ],
      "metadata": {
        "id": "KSlN3yHqYklG"
      }
    },
    {
      "cell_type": "code",
      "source": [
        "# Chart - 2 visualization code\n",
        "A = df['symboling'].value_counts()\n",
        "plot_color='red'"
      ],
      "metadata": {
        "id": "UCU3ED-HI5DG"
      },
      "execution_count": null,
      "outputs": []
    },
    {
      "cell_type": "code",
      "source": [
        "A"
      ],
      "metadata": {
        "id": "b7J5FHnEJR7J"
      },
      "execution_count": null,
      "outputs": []
    },
    {
      "cell_type": "code",
      "source": [
        "plt.rcParams['figure.figsize'] = (8,2)\n",
        "ax=A.plot(kind = 'bar',color=plot_color)\n",
        "for p in ax.patches:\n",
        "    ax.annotate(f'{p.get_height()}', (p.get_x() * 1.005, p.get_height() * 1.005))\n",
        "plt.title('symboling of cars')\n",
        "plt.xlabel('Symboling - Insurance Risk Factor')\n",
        "plt.ylabel('Total-Counts')\n"
      ],
      "metadata": {
        "id": "5e_Z6N5dJTvg"
      },
      "execution_count": null,
      "outputs": []
    },
    {
      "cell_type": "code",
      "source": [
        "plt.figure(figsize=(8, 4))\n",
        "sns.kdeplot(A, fill=True, color='orange')\n",
        "plt.title('symboling - Distribution')\n",
        "plt.xlabel('Symboling - Insurance Risk Factor')\n",
        "plt.ylabel('Counts')"
      ],
      "metadata": {
        "id": "cvXfTPbrJ5mm"
      },
      "execution_count": null,
      "outputs": []
    },
    {
      "cell_type": "markdown",
      "source": [
        "##### 1. Why did you pick the specific chart?"
      ],
      "metadata": {
        "id": "t6dVpIINYklI"
      }
    },
    {
      "cell_type": "markdown",
      "source": [],
      "metadata": {
        "id": "5aaW0BYyYklI"
      }
    },
    {
      "cell_type": "markdown",
      "source": [
        "##### 2. What is/are the insight(s) found from the chart?"
      ],
      "metadata": {
        "id": "ijmpgYnKYklI"
      }
    },
    {
      "cell_type": "markdown",
      "source": [
        "***Bar Chart Insights***:\n",
        "\n",
        "Comparison of categorical data: A bar chart could reveal which category has the highest frequency or value compared to others.\n",
        "Trends over time or across groups: If the bar chart represents data over time or different groups, insights might include identifying trends, patterns, or disparities between categories.\n",
        "Identifying outliers or anomalies: In some cases, bar charts can highlight categories that deviate significantly from the rest, indicating potential outliers or areas of interest.\n",
        "\n",
        "\n",
        "***KDE Plot Insights***:\n",
        "\n",
        "Distribution characteristics: A KDE plot can reveal the shape, spread, and central tendency of a continuous data distribution. Insights might include whether the data is normally distributed, skewed, bimodal, or exhibits other patterns.\n",
        "Identification of peaks or modes: Peaks in the KDE plot indicate areas of high density in the data distribution, which could correspond to meaningful clusters or subgroups within the data.\n",
        "Comparison of distributions: If multiple KDE plots are overlaid or shown side by side, insights might involve comparing the shapes and characteristics of different distributions to identify similarities, differences, or patterns across groups or conditions."
      ],
      "metadata": {
        "id": "8xv0HW1iQrZZ"
      }
    },
    {
      "cell_type": "markdown",
      "source": [
        "##### 3. Will the gained insights help creating a positive business impact?\n",
        "Are there any insights that lead to negative growth? Justify with specific reason."
      ],
      "metadata": {
        "id": "-JiQyfWJYklI"
      }
    },
    {
      "cell_type": "markdown",
      "source": [
        "\n",
        "\n",
        "**Positive Business Impacts:**\n",
        "1. **Informed Decision-Making:** Understanding trends, patterns, and outliers from data visualizations can guide strategic decision-making. For example, identifying a product category with increasing sales through a bar chart could lead to investing more resources in marketing or production for that product, thus driving revenue growth.\n",
        "2. **Optimized Resource Allocation:** Insights from visualizations can help businesses allocate resources more efficiently. For instance, a KDE plot showing the distribution of customer demographics might reveal underserved market segments, prompting targeted marketing campaigns to those groups and potentially increasing market share.\n",
        "3. **Improved Product Development:** Analyzing customer feedback data using visualizations can highlight areas for product improvement. For instance, a bar chart showing customer satisfaction scores for different features of a product might reveal which features need enhancement, leading to product iterations that better meet customer needs and preferences.\n",
        "\n",
        "However, it's essential to recognize that not all insights necessarily lead to positive growth. Here's how insights could potentially result in negative impacts:\n",
        "\n",
        "**Negative Growth Impacts:**\n",
        "1. **Identifying Declining Trends:** While it's crucial to identify areas for improvement, visualizations revealing declining trends, such as decreasing sales in a particular market segment, could signal challenges that need to be addressed promptly to prevent further negative impacts on revenue and market share.\n",
        "2. **Uncovering Operational Inefficiencies:** Visualizations might expose inefficiencies in business operations, such as high customer churn rates or excessive production costs. Addressing these issues could initially incur costs or require restructuring, potentially leading to short-term negative impacts on profitability.\n",
        "3. **Revealing Competitive Disadvantages:** Visualizations comparing business performance with competitors could uncover areas where the business is lagging behind. While this insight is essential for strategic planning, addressing competitive disadvantages might require significant investment or restructuring, leading to short-term negative impacts on financial metrics.\n",
        "\n"
      ],
      "metadata": {
        "id": "BcBbebzrYklV"
      }
    },
    {
      "cell_type": "markdown",
      "source": [
        "#### Chart - 3"
      ],
      "metadata": {
        "id": "EM7whBJCYoAo"
      }
    },
    {
      "cell_type": "code",
      "source": [
        "# Chart - 3 visualization code\n",
        "B = df['normalized-losses'].value_counts()\n",
        "plot_color = 'green'\n",
        "B\n"
      ],
      "metadata": {
        "id": "t6GMdE67YoAp"
      },
      "execution_count": null,
      "outputs": []
    },
    {
      "cell_type": "code",
      "source": [
        "plt.rcParams['figure.figsize'] = (18,6)\n",
        "ax=B.plot(kind = 'bar',color=plot_color)\n",
        "for p in ax.patches:\n",
        "    ax.annotate(f'{p.get_height()}', (p.get_x() * 1.05, p.get_height() * 1.05))\n",
        "    plt.xticks(rotation=35)\n",
        "plt.title('normalized-losses - Distribution')\n",
        "plt.xlabel('normalized-losses Factor')\n",
        "plt.ylabel('Total-Counts')"
      ],
      "metadata": {
        "id": "olcJb8TrWF_7"
      },
      "execution_count": null,
      "outputs": []
    },
    {
      "cell_type": "code",
      "source": [
        "plt.figure(figsize=(10, 6))\n",
        "sns.histplot(B.dropna(), bins=30, kde=True)\n",
        "for p in ax.patches:\n",
        "    ax.annotate(f'{p.get_height()}', (p.get_x() * 1.05, p.get_height() * 1.05))\n",
        "plt.title('Distribution of Normalized Losses')\n",
        "plt.xlabel('Normalized Losses Factor')\n",
        "plt.ylabel('Total Counts')\n",
        "plt.show()"
      ],
      "metadata": {
        "id": "YEZKUpVsWZgt"
      },
      "execution_count": null,
      "outputs": []
    },
    {
      "cell_type": "markdown",
      "source": [
        "##### 1. Why did you pick the specific chart?"
      ],
      "metadata": {
        "id": "fge-S5ZAYoAp"
      }
    },
    {
      "cell_type": "markdown",
      "source": [
        "Bar Chart:\n",
        "A bar chart is an excellent choice when you want to compare the frequency or count of different categories or discrete values. In this scenario, the x-axis represents the categories (normalized loss values), while the y-axis represents the count of occurrences for each category. The length of each bar directly corresponds to the count, making it easy to visually compare the distribution of normalized losses.\n",
        "\n",
        "Scatter Plot:\n",
        "A scatter plot is typically used to display the relationship between two continuous variables. However, in this case, you can adapt it to visualize the distribution of normalized losses. By plotting each unique normalized loss value on the x-axis and its corresponding count on the y-axis, you create a scatter plot where each point represents a unique loss value and its frequency. While a scatter plot might not be the most conventional choice for this type of data, it can still provide insights into the distribution, especially if there are patterns or outliers present."
      ],
      "metadata": {
        "id": "5dBItgRVYoAp"
      }
    },
    {
      "cell_type": "markdown",
      "source": [
        "##### 2. What is/are the insight(s) found from the chart?"
      ],
      "metadata": {
        "id": "85gYPyotYoAp"
      }
    },
    {
      "cell_type": "markdown",
      "source": [
        "From the bar chart and scatter plot depicting the distribution of normalized losses, several insights can be gleaned:\n",
        "\n",
        "1. **Most Common Normalized Losses**: The bar chart allows easy identification of the most common normalized loss values by observing the tallest bars. These values represent the losses that occur most frequently in the dataset. This insight can be valuable for understanding the typical range of losses experienced.\n",
        "\n",
        "2. **Frequency Distribution**: Both visualizations provide a clear picture of the frequency distribution of normalized losses. The scatter plot, in particular, shows how the counts are spread across different loss values. Observing the spread can reveal whether the distribution is skewed or evenly distributed.\n",
        "\n",
        "3. **Identification of Outliers**: In the scatter plot, any points that lie far from the main cluster may indicate outliers. These outliers represent normalized loss values that occur much less frequently than the rest. Identifying and analyzing these outliers could provide insights into exceptional cases or data errors.\n",
        "\n",
        "4. **Data Sparsity**: Sparse regions in the scatter plot, where there are few or no data points, indicate areas where normalized losses are infrequent. Understanding these sparse regions is essential for assessing the completeness of the dataset and identifying potential gaps in coverage.\n",
        "\n",
        "5. **Comparison with Expected Distribution**: If there's a theoretical or expected distribution for normalized losses (such as a normal distribution), the visualizations can be compared against it. Deviations from the expected distribution may indicate anomalies or discrepancies that warrant further investigation.\n",
        "\n",
        "6. **Pattern Recognition**: While less applicable to the bar chart, the scatter plot can reveal patterns or trends in the distribution of normalized losses. For instance, clustering of points or a discernible shape in the scatter plot could indicate underlying patterns in the data, such as seasonality or cyclical trends.\n",
        "\n"
      ],
      "metadata": {
        "id": "4jstXR6OYoAp"
      }
    },
    {
      "cell_type": "markdown",
      "source": [
        "##### 3. Will the gained insights help creating a positive business impact?\n",
        "Are there any insights that lead to negative growth? Justify with specific reason."
      ],
      "metadata": {
        "id": "RoGjAbkUYoAp"
      }
    },
    {
      "cell_type": "markdown",
      "source": [
        "\n",
        "\n",
        "### Positive Business Impact:\n",
        "\n",
        "1. **Optimization of Resources**: Understanding the most common normalized loss values allows businesses to allocate resources more effectively. For instance, if certain types of losses are prevalent, efforts can be focused on mitigating those specific risks, thereby reducing overall losses and improving profitability.\n",
        "\n",
        "2. **Risk Management**: Identifying outliers and sparse regions in the distribution can highlight areas of high risk or low coverage. This insight enables businesses to develop targeted risk management strategies, such as implementing insurance policies or improving safety measures, to minimize potential losses and protect assets.\n",
        "\n",
        "3. **Product Development and Innovation**: Patterns or trends observed in the distribution may inspire product development or innovation opportunities. For example, if certain types of losses are consistently occurring in a particular area, businesses can develop new products or services to address those needs, potentially opening up new revenue streams.\n",
        "\n",
        "### Negative Growth:\n",
        "\n",
        "1. **Unanticipated Losses**: Sparse regions in the distribution may indicate areas where losses are infrequent but still possible. Ignoring these areas could lead to unanticipated losses if events occur that were not adequately accounted for. Failure to address these potential risks may result in negative growth due to unexpected financial setbacks.\n",
        "\n",
        "2. **Underestimation of Risk**: If outliers in the distribution are not properly identified and managed, businesses may underestimate the potential impact of extreme events. This can lead to insufficient risk mitigation measures and leave the business vulnerable to significant losses in the event of rare but severe occurrences, ultimately hindering growth.\n",
        "\n",
        "3. **Missed Opportunities**: Failing to recognize patterns or trends in the distribution may result in missed opportunities for business growth. For example, if a certain type of loss is emerging as a prevalent trend, businesses that do not adapt to address this changing landscape may lose market share to competitors who are more responsive to evolving customer needs.\n",
        "\n"
      ],
      "metadata": {
        "id": "zfJ8IqMcYoAp"
      }
    },
    {
      "cell_type": "markdown",
      "source": [
        "#### Chart - 4"
      ],
      "metadata": {
        "id": "4Of9eVA-YrdM"
      }
    },
    {
      "cell_type": "code",
      "source": [
        "# Chart - 4 visualization code\n",
        "C = df.groupby(['make','fuel-type','aspiration','num-of-doors'])['make'].count().unstack()\n",
        "\n",
        "C\n"
      ],
      "metadata": {
        "id": "irlUoxc8YrdO"
      },
      "execution_count": null,
      "outputs": []
    },
    {
      "cell_type": "code",
      "source": [
        "# plt.rcParams['figure.figsize'] = (18,4)\n",
        "C.plot(kind='bar', stacked=True)\n",
        "plt.xlabel('Make, Fuel Type, Aspiration, Num of Doors')\n",
        "plt.ylabel('Count')\n",
        "plt.title('Stacked Bar Chart of Car Counts')\n",
        "plt.legend(title='Number of Doors')\n",
        "plt.xticks(rotation=45, ha='right')\n",
        "plt.show()"
      ],
      "metadata": {
        "id": "PnU0OXmR7YHQ"
      },
      "execution_count": null,
      "outputs": []
    },
    {
      "cell_type": "code",
      "source": [
        "plt.figure(figsize=(12, 4))\n",
        "plt.xticks(rotation=45)\n",
        "sns.barplot(C, color='brown')\n",
        "plt.title('fuel-type,aspiration,no. of door of cars - Distribution')\n",
        "plt.xlabel('common Factor')\n",
        "plt.ylabel('Total-Counts')\n",
        "plt.show()"
      ],
      "metadata": {
        "id": "7D7eEyRi74iP"
      },
      "execution_count": null,
      "outputs": []
    },
    {
      "cell_type": "markdown",
      "source": [
        "##### 1. Why did you pick the specific chart?"
      ],
      "metadata": {
        "id": "iky9q4vBYrdO"
      }
    },
    {
      "cell_type": "markdown",
      "source": [
        "\n",
        "\n",
        "### Why a Bar Chart?\n",
        "\n",
        "1. **Categorical Data Representation**:\n",
        "   - A bar chart is ideal for displaying the counts of categories, which aligns with the objective of showing how many instances each `'fuel-type'` has.\n",
        "   - Each bar represents a category from the `'fuel-type'` column, with the height indicating the count of instances.\n",
        "\n",
        "2. **Comparison Ease**:\n",
        "   - Bar charts allow easy comparison between different categories. You can quickly see which fuel type is the most or least common.\n",
        "   - This is particularly useful for categorical variables, where relative frequencies are more informative than absolute positions.\n",
        "\n",
        "3. **Clarity and Simplicity**:\n",
        "   - Bar charts are straightforward and intuitive, making them easy to interpret without needing extensive explanation.\n",
        "   - They visually convey the distribution of categories without clutter or confusion.\n",
        "\n",
        "### Why Not Other Charts?\n",
        "\n",
        "1. **Pie Chart**:\n",
        "   - While pie charts can show proportions, they are less effective for comparing multiple categories, especially when there are many or the differences are small.\n",
        "   - Pie charts can become cluttered and difficult to interpret with more than a few categories.\n",
        "\n",
        "2. **Line Chart**:\n",
        "   - Line charts are not suitable for categorical data without a meaningful sequence or continuous progression.\n",
        "   - They are better for time-series data or data with a continuous variable on the x-axis.\n",
        "\n",
        "3. **Histogram**:\n",
        "   - Histograms are used for continuous numerical data to show frequency distributions, not categorical data.\n",
        "   - They would be inappropriate for `'fuel-type'`, which is a categorical variable.\n",
        "\n",
        "4. **Swarm Plot**:\n",
        "   - A swarm plot is used to show the distribution of individual data points across categories, not the count of occurrences per category.\n",
        "   - It’s more suitable for continuous variables or small datasets where individual data points are meaningful.\n",
        "\n"
      ],
      "metadata": {
        "id": "aJRCwT6DYrdO"
      }
    },
    {
      "cell_type": "markdown",
      "source": [
        "##### 2. What is/are the insight(s) found from the chart?"
      ],
      "metadata": {
        "id": "F6T5p64dYrdO"
      }
    },
    {
      "cell_type": "markdown",
      "source": [
        "Based on the bar charts for the `'fuel-type'` distribution, here are the insights you can derive:\n",
        "\n",
        "### Insights from the Chart\n",
        "\n",
        "1. **Dominant Fuel Type**:\n",
        "   - The bar chart reveals which fuel type is the most common in the dataset. If one bar is significantly taller than the others, that fuel type dominates the dataset.\n",
        "   - **Example Insight**: If the `'gas'` bar is the tallest, it indicates that `'gas'` is the most frequently used fuel type in your dataset.\n",
        "\n",
        "2. **Comparison of Fuel Types**:\n",
        "   - You can easily compare the counts of different fuel types to see the distribution. This helps identify any significant differences or similarities in the frequency of each fuel type.\n",
        "   - **Example Insight**: If `'diesel'` and `'gas'` bars are nearly equal in height, it suggests that both fuel types are almost equally represented in the dataset.\n",
        "\n",
        "3. **Identification of Rare Fuel Types**:\n",
        "   - Short bars or the absence of bars for certain fuel types indicate that those types are rare or not present in the dataset.\n",
        "   - **Example Insight**: If the `'electric'` fuel type bar is very short or missing, it shows that electric vehicles are rare or absent in the dataset.\n",
        "\n",
        "4. **Market Trends**:\n",
        "   - The distribution of fuel types can reflect market trends or preferences. For instance, a high count of a particular fuel type might suggest its popularity or widespread use in the market.\n",
        "   - **Example Insight**: A predominance of `'gas'` might reflect a market trend where gasoline-powered vehicles are more common.\n",
        "\n",
        "5. **Potential Areas for Analysis**:\n",
        "   - If you notice an unexpected distribution (e.g., a surprisingly high count of a certain fuel type), it may prompt further investigation into why this is the case.\n",
        "   - **Example Insight**: An unusually high number of `'hybrid'` vehicles might suggest an increasing trend in environmentally friendly options.\n",
        "\n",
        "6. **Inventory or Supply Chain Considerations**:\n",
        "   - For businesses, knowing the distribution of fuel types can inform inventory management or marketing strategies.\n",
        "   - **Example Insight**: If `'diesel'` vehicles are less common, a car dealership might decide to stock fewer diesel models.\n",
        "\n",
        "\n"
      ],
      "metadata": {
        "id": "Xx8WAJvtYrdO"
      }
    },
    {
      "cell_type": "markdown",
      "source": [
        "##### 3. Will the gained insights help creating a positive business impact?\n",
        "Are there any insights that lead to negative growth? Justify with specific reason."
      ],
      "metadata": {
        "id": "y-Ehk30pYrdP"
      }
    },
    {
      "cell_type": "markdown",
      "source": [
        "### Business Impact of Gained Insights\n",
        "\n",
        "The insights from the `'fuel-type'` distribution chart can significantly impact business decisions, leading to either positive or negative outcomes depending on how the information is used and interpreted.\n",
        "\n",
        "#### **Positive Business Impact**\n",
        "\n",
        "1. **Inventory Optimization**:\n",
        "   - **Insight**: Knowing the most common fuel type (e.g., `'gas'` is the most frequent).\n",
        "   - **Positive Impact**: Businesses can optimize their inventory by focusing on the most popular fuel types. For instance, a car dealership can stock more gasoline vehicles to meet customer demand, reducing inventory holding costs and increasing sales efficiency.\n",
        "   - **Example**: A dealership observes that gasoline cars are in high demand and adjusts their inventory to reflect this, resulting in faster sales and reduced storage costs.\n",
        "\n",
        "2. **Marketing Strategy**:\n",
        "   - **Insight**: Identifying which fuel types are more or less common.\n",
        "   - **Positive Impact**: Targeted marketing campaigns can be designed based on popular fuel types. Promotional efforts can be aligned with consumer preferences, increasing engagement and conversion rates.\n",
        "   - **Example**: Marketing campaigns can be tailored to highlight the benefits of the most popular fuel type, leading to higher sales.\n",
        "\n",
        "3. **Product Development**:\n",
        "   - **Insight**: Trends in fuel type preferences.\n",
        "   - **Positive Impact**: Manufacturers can align their product development with market trends. For example, if hybrid vehicles are becoming more popular, investing in hybrid technology can be profitable.\n",
        "   - **Example**: A car manufacturer notices a growing trend in hybrid vehicles and accelerates development in this area, capturing a larger market share.\n",
        "\n",
        "4. **Market Segmentation**:\n",
        "   - **Insight**: Distribution of various fuel types.\n",
        "   - **Positive Impact**: Businesses can segment the market more effectively. For instance, if electric vehicles are a small segment but growing, they can create targeted segments to cater to these customers.\n",
        "   - **Example**: A company creates a specific marketing segment for electric vehicles, leading to better customer targeting and increased market penetration.\n",
        "\n",
        "5. **Strategic Planning**:\n",
        "   - **Insight**: Fuel type trends and market share.\n",
        "   - **Positive Impact**: Companies can use the insights to make strategic decisions about future investments, partnerships, and market expansions.\n",
        "   - **Example**: A strategic plan to expand into regions where diesel vehicles are more common based on observed distribution patterns.\n",
        "\n",
        "#### **Potential Negative Growth Insights**\n",
        "\n",
        "1. **Overemphasis on Popular Fuel Types**:\n",
        "   - **Insight**: Focusing only on the most common fuel type (e.g., gasoline).\n",
        "   - **Negative Impact**: Ignoring emerging trends such as electric or hybrid vehicles could result in lost opportunities in growing markets.\n",
        "   - **Example**: A dealership that only stocks gasoline cars might miss out on the increasing demand for electric vehicles, leading to reduced growth and potential market share loss in the future.\n",
        "\n",
        "2. **Failure to Innovate**:\n",
        "   - **Insight**: Large share of traditional fuel types might suggest stable demand.\n",
        "   - **Negative Impact**: Companies may become complacent, failing to invest in new technologies or fuel alternatives, which could result in being left behind as market preferences shift towards greener options.\n",
        "   - **Example**: A manufacturer continues to focus on gasoline vehicles, neglecting investments in electric or hybrid technologies, which could lead to decreased competitiveness as consumer preferences evolve.\n",
        "\n",
        "3. **Misinterpreting Data for Short-Term Gains**:\n",
        "   - **Insight**: Short-term trends in fuel type popularity.\n",
        "   - **Negative Impact**: Focusing solely on current trends without considering long-term shifts might lead to decisions that are profitable in the short term but detrimental in the long run.\n",
        "   - **Example**: A company ramps up production of diesel vehicles due to a temporary increase in demand, only to face a significant drop in sales as regulations or consumer preferences shift away from diesel.\n",
        "\n",
        "4. **Market Saturation**:\n",
        "   - **Insight**: High competition in the most popular fuel type.\n",
        "   - **Negative Impact**: Entering an already saturated market segment with the most common fuel type might result in fierce competition and lower profit margins.\n",
        "   - **Example**: A new entrant focusing on gasoline cars faces tough competition and finds it challenging to gain market share due to the high number of established players.\n",
        "\n"
      ],
      "metadata": {
        "id": "jLNxxz7MYrdP"
      }
    },
    {
      "cell_type": "markdown",
      "source": [
        "#### Chart - 5"
      ],
      "metadata": {
        "id": "OH-pJp9IphqM"
      }
    },
    {
      "cell_type": "code",
      "source": [
        "# Chart - 5 visualization code\n",
        "E = df.groupby(['make','body-style'])['body-style'].count().unstack()\n",
        "\n",
        "E\n",
        "\n"
      ],
      "metadata": {
        "id": "kuRf4wtuphqN"
      },
      "execution_count": null,
      "outputs": []
    },
    {
      "cell_type": "code",
      "source": [
        "plt.rcParams['figure.figsize'] = (16,4)\n",
        "E.plot(kind = 'bar')\n",
        "plt.xticks(rotation=35)\n",
        "plt.title('Body-style of Cars companys - Distribution')\n",
        "plt.xlabel('body-style Factor')\n",
        "plt.ylabel('Total-Counts')\n"
      ],
      "metadata": {
        "id": "No2Q6jjJJKg1"
      },
      "execution_count": null,
      "outputs": []
    },
    {
      "cell_type": "code",
      "source": [
        "sns.histplot(E, color='darkblue')\n",
        "plt.title('Body-style of Cars companys - Distribution')\n",
        "plt.xlabel('body-style Factor')\n",
        "plt.ylabel('Total-Counts')"
      ],
      "metadata": {
        "id": "stKrrfOeJNxH"
      },
      "execution_count": null,
      "outputs": []
    },
    {
      "cell_type": "markdown",
      "source": [
        "##### 1. Why did you pick the specific chart?"
      ],
      "metadata": {
        "id": "bbFf2-_FphqN"
      }
    },
    {
      "cell_type": "markdown",
      "source": [
        "Here's why I chose the specific charts:\n",
        "\n",
        "1.\n",
        "   **Bar Plot**: Bar plots are commonly used to visualize the frequency or count of categorical variables. Since 'body-style' is a categorical variable, a bar plot effectively displays the count of each body style, making it easy to compare the frequency of different categories.\n",
        "\n",
        "2.\n",
        "**Joint Plot**: Joint plots are often used to visualize the relationship between two numerical variables. However, since 'body-style' is categorical, a joint plot may not be the most suitable choice. Instead, a bar plot or other categorical plots like a pie chart or count plot would be more appropriate for visualizing the distribution of 'body-style'."
      ],
      "metadata": {
        "id": "loh7H2nzphqN"
      }
    },
    {
      "cell_type": "markdown",
      "source": [
        "##### 2. What is/are the insight(s) found from the chart?"
      ],
      "metadata": {
        "id": "_ouA3fa0phqN"
      }
    },
    {
      "cell_type": "markdown",
      "source": [
        "From the bar plot depicting the distribution of 'body-style', we can gain several insights:\n",
        "\n",
        "1. **Most Common Body Style**: We can see which body style is the most common among the cars in the dataset by identifying the tallest bar on the plot. This provides insight into the popularity of different body styles in the dataset.\n",
        "\n",
        "2. **Relative Frequencies**: By comparing the heights of the bars, we can understand the relative frequencies of each body style. This helps in understanding the diversity or concentration of body styles within the dataset.\n",
        "\n",
        "3. **Market Trends**: If the dataset is representative of a specific market or time period, the distribution of body styles can provide insights into market trends or consumer preferences. For example, if one body style has a significantly higher frequency compared to others, it may indicate a trend in consumer demand for that particular style.\n",
        "\n",
        "4. **Segmentation Analysis**: If the dataset contains additional categorical or numerical variables, we can perform segmentation analysis to understand how the distribution of body styles varies across different segments. This can provide insights into consumer behavior or preferences based on demographics or other characteristics.\n",
        "\n"
      ],
      "metadata": {
        "id": "VECbqPI7phqN"
      }
    },
    {
      "cell_type": "markdown",
      "source": [
        "##### 3. Will the gained insights help creating a positive business impact?\n",
        "Are there any insights that lead to negative growth? Justify with specific reason."
      ],
      "metadata": {
        "id": "Seke61FWphqN"
      }
    },
    {
      "cell_type": "markdown",
      "source": [
        "The insights gained from analyzing the distribution of body styles can indeed have a positive business impact in various ways:\n",
        "\n",
        "1. **Product Development**: Understanding which body styles are most popular can inform product development decisions. For example, if compact SUVs are the most common body style, a car manufacturer may prioritize the development of new models in that category to meet consumer demand.\n",
        "\n",
        "2. **Marketing Strategies**: Knowledge of consumer preferences for specific body styles can help tailor marketing strategies. For instance, if sports cars are trending, marketing efforts can be focused on highlighting the performance and design aspects of those models to attract potential buyers.\n",
        "\n",
        "3. **Inventory Management**: Dealerships and manufacturers can optimize their inventory management by stocking more vehicles with body styles that are in high demand. This can reduce excess inventory and improve sales efficiency.\n",
        "\n",
        "However, there are potential negative implications as well:\n",
        "\n",
        "1. **Overreliance on Trends**: If businesses solely focus on producing the most popular body styles without considering long-term sustainability or market shifts, they may face challenges if consumer preferences change suddenly. This can lead to inventory issues and financial losses.\n",
        "\n",
        "2. **Neglect of Niche Markets**: Overemphasizing the most common body styles may result in neglecting niche markets with smaller but dedicated customer bases. Ignoring these segments could lead to missed opportunities for sales and brand loyalty.\n",
        "\n",
        "3. **Competition and Differentiation**: If all competitors in the market react to the same insights and produce similar models based on popular body styles, it can lead to increased competition and price wars. Businesses must find ways to differentiate their offerings to stand out in a crowded market.\n",
        "\n"
      ],
      "metadata": {
        "id": "DW4_bGpfphqN"
      }
    },
    {
      "cell_type": "markdown",
      "source": [
        "#### Chart - 6"
      ],
      "metadata": {
        "id": "PIIx-8_IphqN"
      }
    },
    {
      "cell_type": "code",
      "source": [
        "# Chart - 6 visualization code\n",
        "F = df.groupby(['make','drive-wheels','engine-location'])['make'].count().unstack()\n",
        "\n",
        "F"
      ],
      "metadata": {
        "id": "lqAIGUfyphqO"
      },
      "execution_count": null,
      "outputs": []
    },
    {
      "cell_type": "code",
      "source": [
        "plt.rcParams['figure.figsize'] = (16,4)\n",
        "F.plot(kind = 'bar')\n",
        "\n",
        "plt.xticks(rotation=45)\n",
        "plt.title('wheel drive and engine location Across different car brands - Distribution')\n",
        "plt.xlabel('Car Brands and Drive/Engine Configuration')\n",
        "plt.tight_layout()\n",
        "plt.ylabel('Total-Counts')\n"
      ],
      "metadata": {
        "id": "fhlcO6ktPtdm"
      },
      "execution_count": null,
      "outputs": []
    },
    {
      "cell_type": "code",
      "source": [
        "sns.ecdfplot(F, color='darkgreen')\n",
        "plt.title('wheel drive and engine location Across different car brands - Distribution')\n",
        "plt.xlabel('Car Brands and Drive/Engine Configuration')\n",
        "plt.tight_layout()\n",
        "plt.ylabel('Total-Counts')"
      ],
      "metadata": {
        "id": "lRXAKanl_yVG"
      },
      "execution_count": null,
      "outputs": []
    },
    {
      "cell_type": "markdown",
      "source": [
        "##### 1. Why did you pick the specific chart?"
      ],
      "metadata": {
        "id": "t27r6nlMphqO"
      }
    },
    {
      "cell_type": "markdown",
      "source": [
        "\n",
        "**Effectiveness in Communication**:\n",
        "\n",
        "1. **Bar Chart**: Clearly conveys the distribution of car makes across different configurations, allowing easy comparison.\n",
        "\n",
        "\n",
        "2. **ECDF Plot:** Provides a cumulative perspective, summarizing how car counts are distributed, which can reveal distribution characteristics that are not obvious in a simple bar chart.\n",
        "\n",
        "\n",
        "\n",
        "**Data Characteristics**:\n",
        "\n",
        "1. **Categorical and Count Data:** Your data involves categorical variables (make, drive-wheels, engine-location) and counts, making bar charts a natural fit.\n",
        "\n",
        "2. **Distribution Analysis:** The total counts per make, being numerical, can be effectively summarized using an ECDF plot to understand their distribution better."
      ],
      "metadata": {
        "id": "iv6ro40sphqO"
      }
    },
    {
      "cell_type": "markdown",
      "source": [
        "##### 2. What is/are the insight(s) found from the chart?"
      ],
      "metadata": {
        "id": "r2jJGEOYphqO"
      }
    },
    {
      "cell_type": "markdown",
      "source": [
        "\n",
        "### **Summary of Insights**:\n",
        "- **Brand Preferences**: The bar chart provides insight into each brand's preferred configurations.\n",
        "- **Market Spread**: The ECDF reveals how car counts are spread across brands, indicating whether the market is dominated by a few brands or more evenly distributed.\n",
        "\n"
      ],
      "metadata": {
        "id": "Po6ZPi4hphqO"
      }
    },
    {
      "cell_type": "markdown",
      "source": [
        "##### 3. Will the gained insights help creating a positive business impact?\n",
        "Are there any insights that lead to negative growth? Justify with specific reason."
      ],
      "metadata": {
        "id": "b0JNsNcRphqO"
      }
    },
    {
      "cell_type": "markdown",
      "source": [
        "\n",
        "\n",
        "### Specific Justifications\n",
        "\n",
        "1. **Positive Impact Justifications**:\n",
        "   - **Enhanced Market Understanding**: Recognizing dominant configurations helps tailor products to meet current market demands, improving sales and customer satisfaction.\n",
        "   - **Competitive Advantage**: Differentiating based on insights from underrepresented configurations can attract new customer segments and create a competitive edge.\n",
        "\n",
        "2. **Negative Growth Justifications**:\n",
        "   - **Market Saturation**: Competing in saturated segments without significant differentiation can lead to fierce competition, lower margins, and reduced profitability.\n",
        "   - **Single Configuration Dependency**: Overreliance on a specific configuration increases vulnerability to market shifts, potentially leading to declining sales if consumer preferences change.\n",
        "\n"
      ],
      "metadata": {
        "id": "xvSq8iUTphqO"
      }
    },
    {
      "cell_type": "markdown",
      "source": [
        "#### Chart - 7"
      ],
      "metadata": {
        "id": "BZR9WyysphqO"
      }
    },
    {
      "cell_type": "code",
      "source": [
        "# Chart - 7 visualization code\n",
        "G = df['wheel-base'].value_counts()\n",
        "\n",
        "G\n",
        "\n",
        "\n",
        "\n",
        "\n",
        "\n"
      ],
      "metadata": {
        "id": "TdPTWpAVphqO"
      },
      "execution_count": null,
      "outputs": []
    },
    {
      "cell_type": "code",
      "source": [
        "plt.rcParams['figure.figsize'] = (13,4)\n",
        "ax=G.plot(kind = 'bar', color='red')\n",
        "for p in ax.patches:\n",
        "    ax.annotate(f'{p.get_height()}', (p.get_x() * 1.05, p.get_height() * 1.05))\n",
        "\n",
        "plt.xticks(rotation=45)\n",
        "plt.title('Wheel Base Distribution for Different Car Brands')\n",
        "plt.xlabel('wheel base Configuration')\n",
        "plt.tight_layout()\n",
        "plt.ylabel('Total-Counts')"
      ],
      "metadata": {
        "id": "d1iH8SKbGGZn"
      },
      "execution_count": null,
      "outputs": []
    },
    {
      "cell_type": "code",
      "source": [
        "sns.relplot(G, color='magenta')\n",
        "plt.title('wheel drive and engine location Across different car brands - Distribution')\n",
        "plt.xlabel('Car Brands and Drive/Engine Configuration')\n",
        "plt.tight_layout()\n",
        "plt.ylabel('Total-Counts')"
      ],
      "metadata": {
        "id": "vghOf1UEGhT6"
      },
      "execution_count": null,
      "outputs": []
    },
    {
      "cell_type": "markdown",
      "source": [
        "##### 1. Why did you pick the specific chart?"
      ],
      "metadata": {
        "id": "jj7wYXLtphqO"
      }
    },
    {
      "cell_type": "markdown",
      "source": [
        "### Reasoning Behind Choosing Bar Plot and Relplot\n",
        "\n",
        "#### 1. **Bar Plot**:\n",
        "- **Purpose**: A bar plot is used to visualize the frequency distribution of categorical data.\n",
        "- **Suitability**: In your context, `df['wheel-base'].value_counts()` provides counts of different wheel-base configurations, which are categorical data.\n",
        "- **Benefits**:\n",
        "  - **Clear Comparison**: It allows you to easily compare the counts of each wheel-base configuration.\n",
        "  - **Direct Interpretation**: The height of each bar directly represents the total count of each category, making it straightforward to understand the distribution.\n",
        "- **Annotations**: Adding annotations on bars helps to clearly convey the exact counts.\n",
        "\n",
        "\n",
        "\n",
        "#### 2. **Relplot (Relational Plot)**:\n",
        "- **Purpose**: `sns.relplot` is used to create relational plots like scatter plots and line plots, which show relationships between variables.\n",
        "- **Intended Use**: Typically used for continuous data to display relationships and trends between two variables.\n",
        "- **Revised Suitability**: In your case, since `G` is a Series resulting from `value_counts()`, `relplot` isn't appropriate. If the goal is to compare different configurations of wheel base and engine location across brands, a different relational or categorical plot (like `sns.catplot` or `sns.countplot`) would be more suitable.\n",
        "\n",
        "\n"
      ],
      "metadata": {
        "id": "Ob8u6rCTphqO"
      }
    },
    {
      "cell_type": "markdown",
      "source": [
        "##### 2. What is/are the insight(s) found from the chart?"
      ],
      "metadata": {
        "id": "eZrbJ2SmphqO"
      }
    },
    {
      "cell_type": "markdown",
      "source": [
        "\n",
        "\n",
        "### Summary of Potential Insights:\n",
        "\n",
        "- **Dominance and rarity of configurations**: Identify the most and least common wheel-base sizes.\n",
        "- **Brand-specific patterns**: Understand how different brands prefer different configurations.\n",
        "- **Uniformity or diversity**: Evaluate if there is a standard or a wide variety of wheel-base sizes in the market.\n",
        "- **Competitive insights**: Identify market positioning based on wheel-base preferences.\n",
        "\n",
        "These insights can help stakeholders understand product preferences, industry trends, and competitive landscapes, leading to better decision-making in product development, marketing, and strategic planning.\n"
      ],
      "metadata": {
        "id": "mZtgC_hjphqO"
      }
    },
    {
      "cell_type": "markdown",
      "source": [
        "##### 3. Will the gained insights help creating a positive business impact?\n",
        "Are there any insights that lead to negative growth? Justify with specific reason."
      ],
      "metadata": {
        "id": "rFu4xreNphqO"
      }
    },
    {
      "cell_type": "markdown",
      "source": [
        "\n",
        "\n",
        "**Scenario 1: Positive Impact**\n",
        "- **Insight**: `Type A` is the most common wheel-base across brands.\n",
        "- **Action**: A company decides to launch more models with `Type A` configurations.\n",
        "- **Result**: Sales increase as they meet customer expectations, leading to higher market share and revenue.\n",
        "\n",
        "**Scenario 2: Negative Impact**\n",
        "- **Insight**: Company focuses only on `Type A` due to current popularity.\n",
        "- **Action**: Ignores emerging interest in `Type C` configurations.\n",
        "- **Result**: As market preferences shift towards `Type C`, the company loses competitive edge, leading to declining sales.\n",
        "\n",
        "**Scenario 3: Positive Impact**\n",
        "- **Insight**: `Type D` wheel-base is rare but has a niche market.\n",
        "- **Action**: Develops a premium line of vehicles with `Type D`.\n",
        "- **Result**: Captures a unique market segment, achieving high margins and brand differentiation.\n",
        "\n",
        "**Scenario 4: Negative Impact**\n",
        "- **Insight**: Misinterpret data, assuming `Type B` will remain popular.\n",
        "- **Action**: Overinvest in production for `Type B`.\n",
        "- **Result**: Market shifts to another configuration, leading to excess inventory and reduced profitability.\n"
      ],
      "metadata": {
        "id": "ey_0qi68phqO"
      }
    },
    {
      "cell_type": "markdown",
      "source": [
        "#### Chart - 8"
      ],
      "metadata": {
        "id": "YJ55k-q6phqO"
      }
    },
    {
      "cell_type": "code",
      "source": [
        "# Chart - 8 visualization code\n",
        "H = df['length'].value_counts()\n",
        "\n",
        "H"
      ],
      "metadata": {
        "id": "B2aS4O1ophqO"
      },
      "execution_count": null,
      "outputs": []
    },
    {
      "cell_type": "code",
      "source": [
        "plt.rcParams['figure.figsize'] = (14,4)\n",
        "H.plot(kind = 'bar', color='maroon')\n",
        "\n",
        "plt.xticks(rotation=45)\n",
        "plt.title('Length for different car brands - Distribution')\n",
        "plt.xlabel('Length Configuration')\n",
        "plt.tight_layout()\n",
        "plt.ylabel('Total-Counts')"
      ],
      "metadata": {
        "id": "o2z_bM7RPbNs"
      },
      "execution_count": null,
      "outputs": []
    },
    {
      "cell_type": "code",
      "source": [
        "sns.scatterplot(G, color='purple')\n",
        "plt.title('Length for different car brands - Distribution')\n",
        "plt.xlabel('Length Configuration')\n",
        "plt.tight_layout()\n",
        "plt.ylabel('Total-Counts')"
      ],
      "metadata": {
        "id": "VQX7p4w6PjYt"
      },
      "execution_count": null,
      "outputs": []
    },
    {
      "cell_type": "markdown",
      "source": [
        "##### 1. Why did you pick the specific chart?"
      ],
      "metadata": {
        "id": "gCFgpxoyphqP"
      }
    },
    {
      "cell_type": "markdown",
      "source": [
        "Here’s a summary of why the specific charts were chosen:\n",
        "\n",
        "### Bar Plot\n",
        "- **Purpose**: Shows the frequency distribution of the 'length' column.\n",
        "- **Use Case**: Ideal for visualizing how often each length configuration appears.\n",
        "\n",
        "### Scatter Plot\n",
        "- **Purpose**: Displays the relationship or distribution of another variable `G` relative to the index or another variable.\n",
        "- **Use Case**: Useful for identifying patterns, trends, or outliers in the dataset with respect to `G`.\n",
        "\n",
        "These charts collectively help in understanding the distribution and relationships within the dataset."
      ],
      "metadata": {
        "id": "TVxDimi2phqP"
      }
    },
    {
      "cell_type": "markdown",
      "source": [
        "##### 2. What is/are the insight(s) found from the chart?"
      ],
      "metadata": {
        "id": "OVtJsKN_phqQ"
      }
    },
    {
      "cell_type": "markdown",
      "source": [
        "### Insights from the Charts\n",
        "\n",
        "- **Bar Plot**: Reveals the most common and least common length configurations among car brands, indicating popularity or rarity.\n",
        "\n",
        "- **Scatter Plot**: Highlights any patterns, trends, or outliers in the variable `G` relative to the index or another variable, showing how `G` varies across different entries."
      ],
      "metadata": {
        "id": "ngGi97qjphqQ"
      }
    },
    {
      "cell_type": "markdown",
      "source": [
        "##### 3. Will the gained insights help creating a positive business impact?\n",
        "Are there any insights that lead to negative growth? Justify with specific reason."
      ],
      "metadata": {
        "id": "lssrdh5qphqQ"
      }
    },
    {
      "cell_type": "markdown",
      "source": [
        "### Business Impact of Insights\n",
        "\n",
        "**Positive Impact:**\n",
        "- **Bar Plot Insight**: Identifying the most common length configurations can guide inventory and production focus, catering to market demand and optimizing resources.\n",
        "- **Scatter Plot Insight**: Understanding trends or outliers in variable `G` helps in strategic decision-making, such as targeting improvements or identifying opportunities for growth.\n",
        "\n",
        "**Negative Impact:**\n",
        "- **Bar Plot Insight**: Over-reliance on popular configurations could lead to neglect of niche markets, missing potential revenue streams.\n",
        "- **Scatter Plot Insight**: Misinterpreting patterns or ignoring outliers might result in missed opportunities or ineffective strategies."
      ],
      "metadata": {
        "id": "tBpY5ekJphqQ"
      }
    },
    {
      "cell_type": "markdown",
      "source": [
        "#### Chart - 9"
      ],
      "metadata": {
        "id": "U2RJ9gkRphqQ"
      }
    },
    {
      "cell_type": "code",
      "source": [
        "# Chart - 9 visualization code\n",
        "I = df['width'].value_counts()\n",
        "\n",
        "I\n"
      ],
      "metadata": {
        "id": "GM7a4YP4phqQ"
      },
      "execution_count": null,
      "outputs": []
    },
    {
      "cell_type": "code",
      "source": [
        "plt.rcParams['figure.figsize'] = (14,4)\n",
        "ax=I.plot(kind = 'bar', color='blue')\n",
        "for p in ax.patches:\n",
        "    ax.annotate(f'{p.get_height()}', (p.get_x() * 1.05, p.get_height() * 1.05))\n",
        "\n",
        "plt.xticks(rotation=45)\n",
        "plt.title('Width for different car brands - Distribution')\n",
        "plt.xlabel('Width Configuration')\n",
        "plt.tight_layout()\n",
        "plt.ylabel('Total-Counts')"
      ],
      "metadata": {
        "id": "w9RkZKAvPn0i"
      },
      "execution_count": null,
      "outputs": []
    },
    {
      "cell_type": "code",
      "source": [
        "sns.lineplot(I, color='green')\n",
        "plt.title('Width for different car brands - Distribution')\n",
        "plt.xlabel('Width Configuration')\n",
        "plt.tight_layout()\n",
        "plt.ylabel('Total-Counts')"
      ],
      "metadata": {
        "id": "n4TbxE8YPoJL"
      },
      "execution_count": null,
      "outputs": []
    },
    {
      "cell_type": "markdown",
      "source": [
        "##### 1. Why did you pick the specific chart?"
      ],
      "metadata": {
        "id": "1M8mcRywphqQ"
      }
    },
    {
      "cell_type": "markdown",
      "source": [
        "The specific chart choice, combining a bar plot and a line plot with a secondary y-axis, was made to effectively:\n",
        "\n",
        "1. **Visualize Frequency Distribution**: The bar plot clearly displays the total counts for each length configuration, providing a straightforward view of the distribution.\n",
        "2. **Show Trends**: The line plot overlays trends across length configurations, helping to identify patterns or changes in the distribution over different lengths.\n",
        "3. **Dual Information Display**: Using a secondary y-axis ensures both the bar and line plots are visible without overwhelming the single y-axis scale, maintaining clarity while presenting two types of insights on the same data."
      ],
      "metadata": {
        "id": "8agQvks0phqQ"
      }
    },
    {
      "cell_type": "markdown",
      "source": [
        "##### 2. What is/are the insight(s) found from the chart?"
      ],
      "metadata": {
        "id": "tgIPom80phqQ"
      }
    },
    {
      "cell_type": "markdown",
      "source": [
        "### Insights from the Chart\n",
        "\n",
        "1. **Dominant Length Configurations**: The bar plot highlights specific length configurations that occur more frequently, indicating popular or common sizes among car brands.\n",
        "2. **Trend Patterns**: The line plot shows trends or fluctuations in the frequency of these configurations, revealing if certain lengths are consistently popular or vary significantly.\n",
        "3. **Distribution Gaps**: Areas with lower bar heights or line values indicate less common lengths, helping identify niches or gaps in the market.\n",
        "\n",
        "Overall, the chart reveals the distribution and trends in car length configurations, highlighting prevalent and less common sizes."
      ],
      "metadata": {
        "id": "Qp13pnNzphqQ"
      }
    },
    {
      "cell_type": "markdown",
      "source": [
        "##### 3. Will the gained insights help creating a positive business impact?\n",
        "Are there any insights that lead to negative growth? Justify with specific reason."
      ],
      "metadata": {
        "id": "JMzcOPDDphqR"
      }
    },
    {
      "cell_type": "markdown",
      "source": [
        "Yes, the insights gained from this visualization can lead to positive business impacts. By understanding the distribution of car lengths across different configurations and identifying trends in length preferences, car manufacturers and dealers can:\n",
        "\n",
        "1. **Tailor Product Offerings**: They can adjust their product offerings to better match consumer preferences, producing or stocking more of the lengths that are in higher demand.\n",
        "  \n",
        "2. **Inform Marketing Strategies**: Insights into length preferences can inform targeted marketing campaigns, helping companies reach the right audience with the right messaging.\n",
        "  \n",
        "3. **Optimize Inventory Management**: With knowledge of length distribution and trends, businesses can optimize their inventory management, reducing excess inventory of less popular lengths while ensuring an adequate supply of preferred lengths.\n",
        "\n",
        "Negative growth could occur if the insights reveal a declining trend in the popularity of certain lengths. For example, if the data shows a decreasing demand for longer cars while shorter cars are becoming more popular, manufacturers or dealers heavily invested in producing or stocking longer cars might experience reduced sales and profitability."
      ],
      "metadata": {
        "id": "R4Ka1PC2phqR"
      }
    },
    {
      "cell_type": "markdown",
      "source": [
        "#### Chart - 10"
      ],
      "metadata": {
        "id": "x-EpHcCOp1ci"
      }
    },
    {
      "cell_type": "code",
      "source": [
        "# Chart - 10 visualization code\n",
        "J = df['height'].value_counts()\n",
        "\n",
        "J"
      ],
      "metadata": {
        "id": "mAQTIvtqp1cj"
      },
      "execution_count": null,
      "outputs": []
    },
    {
      "cell_type": "code",
      "source": [
        "plt.rcParams['figure.figsize'] = (14,4)\n",
        "J.plot(kind = 'bar', color='orange')\n",
        "\n",
        "plt.xticks(rotation=45)\n",
        "plt.title('Height for different car brands - Distribution')\n",
        "plt.xlabel('Height Configuration')\n",
        "plt.tight_layout()\n",
        "plt.ylabel('Total-Counts')"
      ],
      "metadata": {
        "id": "DYUqozvvQ2aF"
      },
      "execution_count": null,
      "outputs": []
    },
    {
      "cell_type": "code",
      "source": [
        "sns.relplot(J, color='brown')\n",
        "plt.title('Height for different car brands - Distribution')\n",
        "plt.xlabel('Height Configuration')\n",
        "plt.tight_layout()\n",
        "plt.ylabel('Total-Counts')"
      ],
      "metadata": {
        "id": "SV2EZe22RDYC"
      },
      "execution_count": null,
      "outputs": []
    },
    {
      "cell_type": "markdown",
      "source": [
        "##### 1. Why did you pick the specific chart?"
      ],
      "metadata": {
        "id": "X_VqEhTip1ck"
      }
    },
    {
      "cell_type": "markdown",
      "source": [
        "The choice of a bar chart and a line plot in this context is driven by the need to visualize the distribution of heights for different car brands effectively.\n",
        "\n",
        "A bar chart is ideal for displaying categorical data, such as different car brands in this case, along with their respective frequencies or counts of height configurations. Each bar represents a category (car brand) and its height indicates the count of occurrences, providing a clear comparison between different brands.\n",
        "\n",
        "Meanwhile, a line plot, as implemented through `relplot`, is suitable for showing trends or patterns over a continuous variable, which can be utilized here to illustrate how the counts of height configurations vary across different configurations. By plotting the counts against the height configurations, it becomes easier to discern any trends or irregularities in the data, providing additional insights beyond what a bar chart alone can offer.\n",
        "\n",
        "Together, these visualizations offer complementary perspectives on the distribution of heights for various car brands, facilitating a comprehensive understanding of the dataset and aiding in making informed decisions or observations about the data."
      ],
      "metadata": {
        "id": "-vsMzt_np1ck"
      }
    },
    {
      "cell_type": "markdown",
      "source": [
        "##### 2. What is/are the insight(s) found from the chart?"
      ],
      "metadata": {
        "id": "8zGJKyg5p1ck"
      }
    },
    {
      "cell_type": "markdown",
      "source": [
        "From the bar chart and line plot depicting the distribution of heights for different car brands, several insights can be gleaned:\n",
        "\n",
        "1. **Dominant Height Configurations**: The bar chart reveals the most prevalent height configurations across various car brands. By observing the tallest bars, we can identify which height configurations are most common among the sampled vehicles.\n",
        "\n",
        "2. **Variability Across Brands**: Disparities in the distribution of height configurations between different car brands are discernible from both visualizations. Some brands may exhibit a more uniform distribution, while others may show a concentration around specific height ranges. This can suggest design preferences or market segmentation strategies adopted by different manufacturers.\n",
        "\n",
        "3. **Trends and Patterns**: The line plot provides a visual representation of how the counts of height configurations vary across the spectrum of heights. It can reveal any overarching trends or patterns in the data, such as a gradual increase or decrease in counts as height increases or decreases.\n",
        "\n",
        "4. **Outliers or Anomalies**: Both visualizations can help identify outliers or anomalies in the data, represented by unusually high or low counts for certain height configurations. These outliers may warrant further investigation to understand the underlying reasons behind their occurrence.\n",
        "\n",
        "Overall, these insights aid in understanding the distribution of heights among various car brands, offering valuable information for automotive design, market analysis, and consumer preferences."
      ],
      "metadata": {
        "id": "ZYdMsrqVp1ck"
      }
    },
    {
      "cell_type": "markdown",
      "source": [
        "##### 3. Will the gained insights help creating a positive business impact?\n",
        "Are there any insights that lead to negative growth? Justify with specific reason."
      ],
      "metadata": {
        "id": "PVzmfK_Ep1ck"
      }
    },
    {
      "cell_type": "markdown",
      "source": [
        "The insights gained from analyzing the distribution of heights for different car brands can indeed lead to positive business impacts by informing various aspects of product development, marketing strategies, and customer engagement.\n",
        "\n",
        "Positive Impacts:\n",
        "1. **Product Design Optimization**: Understanding the dominant height configurations across different brands can guide manufacturers in optimizing their product designs to better meet consumer preferences and market demand.\n",
        "2. **Targeted Marketing**: Knowledge of variability across brands can facilitate targeted marketing efforts, allowing companies to tailor their messaging and product positioning to specific customer segments.\n",
        "3. **Competitive Advantage**: Identifying trends and patterns in height distribution can provide companies with a competitive edge by enabling them to anticipate market trends and innovate accordingly.\n",
        "\n",
        "Negative Growth:\n",
        "However, certain insights may potentially lead to negative growth if not properly addressed:\n",
        "1. **Overreliance on Specific Height Configurations**: If a brand's product lineup is heavily skewed towards a particular height configuration that is falling out of favor with consumers, it may result in decreased sales and market share.\n",
        "2. **Failure to Adapt to Changing Trends**: Ignoring trends and patterns identified in the data may lead to stagnation or decline in market relevance as competitors capitalize on emerging preferences.\n",
        "\n"
      ],
      "metadata": {
        "id": "druuKYZpp1ck"
      }
    },
    {
      "cell_type": "markdown",
      "source": [
        "#### Chart - 11"
      ],
      "metadata": {
        "id": "n3dbpmDWp1ck"
      }
    },
    {
      "cell_type": "code",
      "source": [
        "# Chart - 11 visualization code\n",
        "L = df.groupby(['make','engine-type','num-of-cylinders','fuel-system'])['make'].count().unstack()\n",
        "\n",
        "L"
      ],
      "metadata": {
        "id": "bwevp1tKp1ck"
      },
      "execution_count": null,
      "outputs": []
    },
    {
      "cell_type": "code",
      "source": [
        "plt.rcParams['figure.figsize'] = (12,6)\n",
        "L.plot(kind = 'bar')\n",
        "\n",
        "plt.xticks(rotation=65)\n",
        "plt.title('Fuel and Engine System across different car brands - Distribution')\n",
        "plt.xlabel('Car Brands and Engine Configuration')\n",
        "plt.tight_layout()\n",
        "plt.ylabel('Total-Counts')"
      ],
      "metadata": {
        "id": "S3HGLIb8BsC0"
      },
      "execution_count": null,
      "outputs": []
    },
    {
      "cell_type": "markdown",
      "source": [
        "##### 1. Why did you pick the specific chart?"
      ],
      "metadata": {
        "id": "ylSl6qgtp1ck"
      }
    },
    {
      "cell_type": "code",
      "source": [
        "sns.distplot(L, color='green')\n",
        "plt.title('Fuel and Engine System across different car brands - Distribution')\n",
        "plt.xlabel('Car Brands and Engine Configuration')\n",
        "plt.tight_layout()\n",
        "plt.ylabel('Total-Counts')"
      ],
      "metadata": {
        "id": "QNqxmczhCSNZ"
      },
      "execution_count": null,
      "outputs": []
    },
    {
      "cell_type": "markdown",
      "source": [
        "### Reason for Selecting the Specific Charts:\n",
        "\n",
        "#### 1. **Bar Plot**:\n",
        "- **Purpose**: To **compare** the distribution of different `fuel-system` types across various `make`, `engine-type`, and `num-of-cylinders` configurations.\n",
        "- **Effectiveness**: Bar plots are ideal for showing categorical data comparisons, providing a clear visual representation of counts or frequencies across multiple categories. In this context, it helps in visualizing the frequency of different fuel systems for each combination of car make and engine configuration.\n",
        "\n",
        "#### 2. **ECDF (Empirical Cumulative Distribution Function) Plot**:\n",
        "- **Purpose**: To **understand the distribution** and **cumulative probabilities** of the counts of `fuel-system` occurrences.\n",
        "- **Effectiveness**: ECDF plots show the proportion of observations below or at a particular value. This is useful for understanding the distribution pattern of the counts (e.g., how frequently lower counts occur compared to higher counts), which can provide insights into the overall distribution of fuel system counts across different configurations.\n"
      ],
      "metadata": {
        "id": "m2xqNkiQp1ck"
      }
    },
    {
      "cell_type": "markdown",
      "source": [
        "##### 2. What is/are the insight(s) found from the chart?"
      ],
      "metadata": {
        "id": "ZWILFDl5p1ck"
      }
    },
    {
      "cell_type": "markdown",
      "source": [
        "### Insights from the Charts\n",
        "\n",
        "#### **Bar Plot Insights**:\n",
        "1. **Distribution Patterns**:\n",
        "   - Shows how different `fuel-system` types are distributed across various car brands and engine configurations.\n",
        "   - Identifies which `fuel-system` types are most common for specific combinations of `make`, `engine-type`, and `num-of-cylinders`.\n",
        "\n",
        "2. **Prominent Categories**:\n",
        "   - Highlights the car brands or configurations with significantly higher counts for particular fuel systems.\n",
        "\n",
        "#### **ECDF Plot Insights**:\n",
        "1. **Cumulative Trends**:\n",
        "   - Reveals the cumulative distribution of `fuel-system` counts, indicating how frequently lower or higher counts occur.\n",
        "   - Shows the proportion of configurations that have a certain range of counts, helping to understand the distribution's skewness and spread.\n",
        "\n",
        "2. **Distribution Skew**:\n",
        "   - Provides insight into whether most configurations have low, medium, or high counts of `fuel-system` occurrences, indicating the overall trend of fuel system counts across different configurations.\n",
        "\n",
        "### Summary\n",
        "- The **bar plot** reveals **specific distribution patterns** and **prominent configurations** for fuel systems across car brands and engine types.\n",
        "- The **ECDF plot** provides a **cumulative perspective**, showing **overall distribution trends** and indicating whether the counts are concentrated in lower or higher ranges."
      ],
      "metadata": {
        "id": "x-lUsV2mp1ck"
      }
    },
    {
      "cell_type": "markdown",
      "source": [
        "##### 3. Will the gained insights help creating a positive business impact?\n",
        "Are there any insights that lead to negative growth? Justify with specific reason."
      ],
      "metadata": {
        "id": "M7G43BXep1ck"
      }
    },
    {
      "cell_type": "markdown",
      "source": [
        "### Business Impact of Insights\n",
        "\n",
        "#### **Positive Business Impact**:\n",
        "1. **Market Positioning**:\n",
        "   - **Identify Popular Configurations**: Insights into which fuel systems are popular for certain car brands and engine configurations help manufacturers tailor their offerings to match market demand, leading to increased sales and better market alignment.\n",
        "   - **Targeted Marketing**: Knowing the distribution patterns allows for more targeted marketing and sales strategies, focusing on configurations that are in higher demand.\n",
        "\n",
        "2. **Product Development**:\n",
        "   - **Informed Design Choices**: Understanding which fuel systems are preferred can guide future product development and enhancements, ensuring new models align with consumer preferences.\n",
        "\n",
        "3. **Inventory Management**:\n",
        "   - **Optimized Stock**: Manufacturers and dealers can use these insights to optimize inventory, reducing excess stock of less popular configurations and ensuring availability of high-demand models.\n",
        "\n",
        "#### **Potential Negative Growth**:\n",
        "1. **Over-reliance on Popular Configurations**:\n",
        "   - **Ignoring Niche Markets**: Focusing too heavily on configurations with higher counts might lead to neglecting niche markets that could offer growth opportunities.\n",
        "   - **Limited Innovation**: Overemphasis on current popular configurations might stifle innovation and the introduction of new features that could appeal to emerging market segments.\n",
        "\n",
        "2. **Misinterpretation of Data**:\n",
        "   - **Faulty Assumptions**: Misreading trends or over-generalizing from the data could lead to incorrect strategic decisions, such as discontinuing less popular but strategically important configurations.\n",
        "\n",
        "### Summary\n",
        "- **Positive Impact**: The insights support better **market alignment, targeted marketing, product development**, and **inventory management**, leading to potential sales growth and operational efficiency.\n",
        "- **Potential Negative Impact**: Risks include **over-reliance on current popular trends**, possibly **ignoring niche markets**, and the danger of **misinterpreting data**, which could hinder long-term innovation and growth."
      ],
      "metadata": {
        "id": "5wwDJXsLp1cl"
      }
    },
    {
      "cell_type": "markdown",
      "source": [
        "#### Chart - 12"
      ],
      "metadata": {
        "id": "Gy5D3kmPSmnE"
      }
    },
    {
      "cell_type": "code",
      "source": [
        "\n",
        "# Chart - 12 visualization code\n",
        "\n",
        "M = df['curb-weight'].value_counts()\n",
        "\n",
        "M\n"
      ],
      "metadata": {
        "id": "rDOhxslXSmnL"
      },
      "execution_count": null,
      "outputs": []
    },
    {
      "cell_type": "code",
      "source": [
        "N = df['peak-rpm'].value_counts()\n",
        "\n",
        "N"
      ],
      "metadata": {
        "id": "lyiG3PIwFSrv"
      },
      "execution_count": null,
      "outputs": []
    },
    {
      "cell_type": "code",
      "source": [
        "M.sort_index().plot(kind='line')\n",
        "plt.xlabel('Curb Weight')\n",
        "plt.ylabel('Counts')\n",
        "plt.title('Line Chart of Curb Weight')\n",
        "plt.show()"
      ],
      "metadata": {
        "id": "yrs1JnlFDS5U"
      },
      "execution_count": null,
      "outputs": []
    },
    {
      "cell_type": "code",
      "source": [
        "plt.rcParams['figure.figsize'] = (20,8)\n",
        "N.plot(kind = 'bar', color='maroon')\n",
        "\n",
        "# for p in ax.patches:\n",
        "#     ax.annotate(f'{p.get_height()}', (p.get_x() * 1.05, p.get_height() * 1.05))\n",
        "\n",
        "plt.xticks(rotation=90)\n",
        "plt.title('peak-rpm across different car brands - Distribution')\n",
        "plt.xlabel('Car Brands and Engine Configuration')\n",
        "plt.tight_layout()\n",
        "plt.ylabel('Total-Counts')"
      ],
      "metadata": {
        "id": "Ql8X1jFDHEqL"
      },
      "execution_count": null,
      "outputs": []
    },
    {
      "cell_type": "code",
      "source": [
        "sns.relplot(x=M.index, y=M.values,  color='purple', height=5, aspect=2)\n",
        "plt.title('Curb Weight across different car brands - Distribution')\n",
        "plt.xlabel('Car Brands and Engine Configuration')\n",
        "plt.tight_layout()\n",
        "plt.ylabel('Total-Counts')"
      ],
      "metadata": {
        "id": "-bHFQloYDTWn"
      },
      "execution_count": null,
      "outputs": []
    },
    {
      "cell_type": "code",
      "source": [
        "sns.relplot(N, color='orange')\n",
        "plt.title('peak-rpm across different car brands - Distribution')\n",
        "plt.xlabel('Car Brands and Engine Configuration')\n",
        "plt.tight_layout()\n",
        "plt.ylabel('Total-Counts')"
      ],
      "metadata": {
        "id": "TxtULitmHcxv"
      },
      "execution_count": null,
      "outputs": []
    },
    {
      "cell_type": "markdown",
      "source": [
        "##### 1. Why did you pick the specific chart?"
      ],
      "metadata": {
        "id": "R7iw_u8FSmnM"
      }
    },
    {
      "cell_type": "markdown",
      "source": [
        "\n",
        "\n",
        "### **Summary**\n",
        "\n",
        "**Choosing Chart Types:**\n",
        "- **Bar Plots** are chosen for their simplicity and effectiveness in showing the distribution and frequency of categorical or discrete data.\n",
        "- **Relational (Line) Plots** provide a more dynamic view of how data changes across different values, highlighting trends and patterns.\n",
        "\n",
        "These charts complement each other:\n",
        "- **Bar Plots** give a straightforward count comparison.\n",
        "- **Relational Plots** offer insights into the distribution trends over different values, making it easier to see how the data evolves.\n",
        "\n",
        "**Designing Visualizations:**\n",
        "- Use **bar plots** for clear, simple comparisons of frequencies.\n",
        "- Use **relational plots** for understanding trends and patterns in the data."
      ],
      "metadata": {
        "id": "rxbf9t4tSmnM"
      }
    },
    {
      "cell_type": "markdown",
      "source": [
        "##### 2. What is/are the insight(s) found from the chart?"
      ],
      "metadata": {
        "id": "jW1hsHzESmnM"
      }
    },
    {
      "cell_type": "markdown",
      "source": [
        "To provide insights from the visualizations, let’s consider what each type of plot might reveal about the data for `curb-weight` and `peak-rpm`.\n",
        "\n",
        "### **1. Insights from Bar Plots**\n",
        "\n",
        "**Bar Plot for `curb-weight`:**\n",
        "- **Distribution Patterns:** The bar plot for `curb-weight` shows the frequency of each curb weight value.\n",
        "- **Popular Weights:** Identifies the most common curb weights among the cars. For instance, if 3000 lbs appears more frequently than others, this might indicate a standard weight class for many vehicles in the dataset.\n",
        "- **Outliers and Rare Weights:** Highlights any curb weights that are significantly less common or unique, pointing to possibly rare or specialized vehicle types.\n",
        "\n",
        "**Example Insight:**\n",
        "- **If the 3000 lbs weight is the tallest bar:** This might indicate a standard or typical weight for cars in your dataset, suggesting that many cars have similar structural builds or belong to a similar category.\n",
        "\n",
        "**Bar Plot for `peak-rpm`:**\n",
        "- **Frequency of RPM Values:** Shows how frequently each peak RPM value occurs.\n",
        "- **Common RPM Values:** Helps identify the most common engine configurations in terms of RPM, indicating typical performance levels.\n",
        "- **Rare RPM Values:** Points out any peak RPM values that are less common, potentially indicating high-performance or specialized engines.\n",
        "\n",
        "**Example Insight:**\n",
        "- **If 5000 RPM is the tallest bar:** This suggests that a large proportion of cars have peak RPMs around this value, reflecting a common engine performance standard in the dataset.\n",
        "\n",
        "### **2. Insights from Relational Plots**\n",
        "\n",
        "**Relational Plot for `curb-weight`:**\n",
        "- **Trend Analysis:** Shows trends in how the frequency of different curb weights changes. For example, if the plot shows a rising trend towards higher curb weights, it may indicate that heavier cars are more prevalent or increasing in popularity.\n",
        "- **Smoothness and Peaks:** If the curve is smooth, it suggests a gradual distribution without abrupt changes. Peaks in the curve show concentrations of vehicles around specific weights.\n",
        "\n",
        "**Example Insight:**\n",
        "- **Increasing trend towards heavier weights:** Might suggest a trend towards larger or more feature-rich vehicles that are heavier, such as SUVs.\n",
        "\n",
        "**Relational Plot for `peak-rpm`:**\n",
        "- **Peak RPM Trends:** Indicates how the distribution of RPMs changes across different values. A rising trend towards higher RPM values might suggest a preference or prevalence for engines capable of higher RPMs.\n",
        "- **Distribution Shape:** The shape of the curve can show whether most cars have a similar RPM range or if there is significant variability.\n",
        "\n",
        "**Example Insight:**\n",
        "- **If there's a peak around 5500 RPM:** This could suggest that engines with this peak RPM are particularly common, perhaps due to a balance between performance and fuel efficiency in that range.\n",
        "\n",
        "\n",
        "\n",
        "\n",
        "\n"
      ],
      "metadata": {
        "id": "8p0mpA5tSmnM"
      }
    },
    {
      "cell_type": "markdown",
      "source": [
        "##### 3. Will the gained insights help creating a positive business impact?\n",
        "Are there any insights that lead to negative growth? Justify with specific reason."
      ],
      "metadata": {
        "id": "EV9Lep3tSmnM"
      }
    },
    {
      "cell_type": "markdown",
      "source": [
        "**Insights from the `curb-weight` and `peak-rpm` data can significantly influence business decisions**\n",
        "\n",
        "### **Positive Business Impact**\n",
        "\n",
        "1. **Targeted Product Development:**\n",
        "   \n",
        "   - **Impact:** Focus on developing and marketing vehicles that match these common specifications, aligning with consumer preferences and likely leading to higher sales.\n",
        "\n",
        "2. **Market Segmentation:**\n",
        "\n",
        "   - **Impact:** Helps in creating targeted marketing campaigns and customizing product lines for different segments, improving market penetration and customer satisfaction.\n",
        "\n",
        "3. **Trend Identification:**\n",
        "   - **Insight:** If relational plots show increasing trends towards heavier weights and higher RPMs.\n",
        "   - **Impact:** Capitalize on these trends by developing new models or upgrading existing ones to meet these emerging preferences, staying ahead of competitors and capturing market share.\n",
        "\n",
        "4. **Efficiency Optimization:**\n",
        "   \n",
        "   - **Impact:** Optimize manufacturing and inventory processes around these common specifications, reducing costs and improving operational efficiency.\n",
        "\n",
        "### **Negative Growth Insights**\n",
        "\n",
        "1. **Over-Reliance on Common Specifications:**\n",
        "  \n",
        "   - **Impact:** Overemphasizing common configurations might stifle innovation and make the brand less distinctive, leading to potential loss of competitive edge and market share.\n",
        "\n",
        "2. **Ignoring Emerging Trends:**\n",
        "\n",
        "   - **Impact:** Failure to adapt to these trends can result in outdated product offerings, leading to reduced market relevance and negative growth.\n",
        "\n",
        "3. **Misalignment with Niche Markets:**\n",
        "   \n",
        "   - **Impact:** Neglecting niche markets that demand unique specifications can result in missed opportunities and a narrowed customer base.\n",
        "\n",
        "4. **Potential Overproduction:**\n",
        "  \n",
        "   - **Impact:** Overproduction of vehicles matching common specifications without considering market saturation or shifting consumer interests can lead to excess inventory and financial losses.\n",
        "\n",
        "### **Justification**\n",
        "\n",
        "**For Positive Impact:**\n",
        "- **Aligning with Consumer Preferences:** Catering to what most consumers prefer (as indicated by common `curb-weight` and `peak-rpm`) increases product acceptance and sales.\n",
        "- **Adapting to Trends:** Recognizing and responding to trends ensures the product lineup remains relevant and appealing.\n",
        "\n",
        "**For Negative Growth:**\n",
        "- **Lack of Differentiation:** Overemphasis on common specifications can lead to a lack of product differentiation, making it difficult to stand out in a competitive market.\n",
        "- **Ignoring Shifts:** Not adapting to trends or niche preferences can render the product range obsolete, leading to decreased demand and market relevance.\n",
        "\n"
      ],
      "metadata": {
        "id": "Lqdzdv4ESmnM"
      }
    },
    {
      "cell_type": "markdown",
      "source": [
        "#### Chart - 13"
      ],
      "metadata": {
        "id": "Ag9LCva-p1cl"
      }
    },
    {
      "cell_type": "code",
      "source": [
        "# Chart - 13 visualization code\n",
        "\n",
        "O = df['city-mpg'].value_counts()\n",
        "\n",
        "O"
      ],
      "metadata": {
        "id": "EUfxeq9-p1cl"
      },
      "execution_count": null,
      "outputs": []
    },
    {
      "cell_type": "code",
      "source": [
        "O.plot(kind='barh')\n",
        "plt.xlabel('Counts')\n",
        "plt.ylabel('City MPG')\n",
        "plt.title('Horizontal Bar Chart of City MPG')\n",
        "plt.show()"
      ],
      "metadata": {
        "id": "874bUPyVgw1G"
      },
      "execution_count": null,
      "outputs": []
    },
    {
      "cell_type": "code",
      "source": [
        "sns.pointplot(x=O.index, y=O.values)\n",
        "plt.xlabel('City MPG')\n",
        "plt.ylabel('Counts')\n",
        "plt.title('Point Plot of City MPG')\n",
        "\n",
        "plt.show()\n"
      ],
      "metadata": {
        "id": "wh0knt-ugPsZ"
      },
      "execution_count": null,
      "outputs": []
    },
    {
      "cell_type": "markdown",
      "source": [
        "##### 1. Why did you pick the specific chart?"
      ],
      "metadata": {
        "id": "E6MkPsBcp1cl"
      }
    },
    {
      "cell_type": "markdown",
      "source": [
        "### Summary of Chart Selections:\n",
        "\n",
        "1. **Horizontal Bar Chart**:\n",
        "   - **Purpose**: Ideal for visualizing the distribution of categorical or discrete numerical data.\n",
        "   - **Reason**: It provides a clear and straightforward comparison of the counts of different `city-mpg` values. Horizontal bars make it easier to read and compare values, especially when there are many categories.\n",
        "\n",
        "2. **Point Plot**:\n",
        "   - **Purpose**: Used to highlight trends and variations in data points.\n",
        "   - **Reason**: It complements the bar chart by showing the counts of `city-mpg` values as individual points, making it easier to identify patterns or outliers in the data distribution. The point plot also efficiently handles overlapping data points."
      ],
      "metadata": {
        "id": "V22bRsFWp1cl"
      }
    },
    {
      "cell_type": "markdown",
      "source": [
        "##### 2. What is/are the insight(s) found from the chart?"
      ],
      "metadata": {
        "id": "2cELzS2fp1cl"
      }
    },
    {
      "cell_type": "markdown",
      "source": [
        "### Summary of Insights from the Charts:\n",
        "\n",
        "1. **Horizontal Bar Chart**:\n",
        "   - **Insight**: **Frequency Distribution** - Shows which `city-mpg` values are most common or rare. Provides a clear comparison of how many vehicles fall into each `city-mpg` category.\n",
        "\n",
        "2. **Point Plot**:\n",
        "   - **Insight**: **Data Trends** - Highlights the distribution trend of `city-mpg` counts. Reveals any patterns, such as clusters or gaps in the `city-mpg` values, indicating popular or less common efficiency ranges."
      ],
      "metadata": {
        "id": "ozQPc2_Ip1cl"
      }
    },
    {
      "cell_type": "markdown",
      "source": [
        "##### 3. Will the gained insights help creating a positive business impact?\n",
        "Are there any insights that lead to negative growth? Justify with specific reason."
      ],
      "metadata": {
        "id": "3MPXvC8up1cl"
      }
    },
    {
      "cell_type": "markdown",
      "source": [
        "### Business Impact of Insights\n",
        "\n",
        "1. **Positive Business Impact**:\n",
        "   - **Targeted Marketing**: Insights into popular `city-mpg` ranges can help businesses tailor their marketing and inventory to match consumer preferences for fuel efficiency.\n",
        "   - **Product Development**: Understanding the common `city-mpg` values aids in designing new vehicles that align with consumer demand for fuel-efficient models.\n",
        "   - **Pricing Strategy**: Knowing which `city-mpg` categories are most desirable can inform pricing strategies to optimize sales and profit margins.\n",
        "\n",
        "2. **Negative Growth Impact**:\n",
        "   - **Overlooking Niche Markets**: Focusing solely on popular `city-mpg` values might lead to neglecting niche markets with specific needs, potentially losing those customers to competitors.\n",
        "   - **Inventory Imbalance**: Overestimating demand for popular `city-mpg` ranges could result in excess inventory and reduced profitability if market trends shift.Answer Here"
      ],
      "metadata": {
        "id": "GL8l1tdLp1cl"
      }
    },
    {
      "cell_type": "markdown",
      "source": [
        "#### Chart - 14"
      ],
      "metadata": {
        "id": "ttynVyuJm1TN"
      }
    },
    {
      "cell_type": "code",
      "source": [
        "# Chart - 14 visualization code\n",
        "P = df['highway-mpg'].value_counts()\n",
        "\n",
        "P\n"
      ],
      "metadata": {
        "id": "Ng-PLeqjm1TU"
      },
      "execution_count": null,
      "outputs": []
    },
    {
      "cell_type": "code",
      "source": [
        "plt.hist(df['highway-mpg'], bins=10, edgecolor='r')\n",
        "plt.xlabel('Highway MPG')\n",
        "plt.ylabel('Frequency')\n",
        "plt.title('Histogram of Highway MPG')\n",
        "plt.show()"
      ],
      "metadata": {
        "id": "oeZCSX7zuIGg"
      },
      "execution_count": null,
      "outputs": []
    },
    {
      "cell_type": "code",
      "source": [
        "sns.pointplot(P,  color='red')\n",
        "plt.xlabel('Highway MPG')\n",
        "plt.ylabel('Counts')\n",
        "plt.title('Point Plot of Highway MPG')\n",
        "plt.xticks(rotation=90)\n",
        "plt.show()"
      ],
      "metadata": {
        "id": "rF5eTfGbu96p"
      },
      "execution_count": null,
      "outputs": []
    },
    {
      "cell_type": "markdown",
      "source": [
        "##### 1. Why did you pick the specific chart?"
      ],
      "metadata": {
        "id": "NLWbByaFm1TU"
      }
    },
    {
      "cell_type": "markdown",
      "source": [
        "I chose those specific charts, a histogram and a point plot, because they are commonly used to visualize the distribution and counts of a continuous variable, which in this case is 'highway-mpg'.\n",
        "\n",
        "- The histogram provides a visual representation of the distribution of the 'highway-mpg' data, showing how the data is spread across different MPG ranges.\n",
        "- The point plot is suitable for displaying the counts of each unique 'highway-mpg' value, providing insights into the frequency of occurrence for each MPG value.\n",
        "\n",
        "These charts complement each other in providing a comprehensive understanding of the 'highway-mpg' data."
      ],
      "metadata": {
        "id": "oFM5Jx8gm1TU"
      }
    },
    {
      "cell_type": "markdown",
      "source": [
        "##### 2. What is/are the insight(s) found from the chart?"
      ],
      "metadata": {
        "id": "_J6nyB2Mm1TU"
      }
    },
    {
      "cell_type": "markdown",
      "source": [
        "From the histogram:\n",
        "- The majority of vehicles seem to have highway MPG values concentrated around a specific range, possibly indicating a common fuel efficiency standard or prevalent vehicle type.\n",
        "- There might be some outliers with significantly higher or lower MPG values, suggesting the presence of unique or specialized vehicles.\n",
        "\n",
        "From the point plot:\n",
        "- It provides a clear visualization of the distribution of counts for each unique 'highway-mpg' value.\n",
        "- Peaks in the plot indicate the most common 'highway-mpg' values, giving insight into the prevalent fuel efficiency levels among vehicles in the dataset."
      ],
      "metadata": {
        "id": "XxLxiDtJm1TU"
      }
    },
    {
      "cell_type": "markdown",
      "source": [
        "#### Chart - 15 - Correlation Heatmap"
      ],
      "metadata": {
        "id": "Zx2nF898nOOx"
      }
    },
    {
      "cell_type": "code",
      "source": [
        "# Correlation Heatmap visualization code\n",
        "numeric_df = df.select_dtypes(include=[float, int])\n",
        "\n",
        "corr_matrix = numeric_df.corr()\n",
        "plt.figure(figsize=(10, 8))\n",
        "sns.heatmap(corr_matrix, annot=True, fmt=\".2f\", cmap='coolwarm', linewidths=0.5)\n",
        "plt.title('Correlation Heatmap', size=15)\n",
        "plt.xticks(rotation=45, ha='right')\n",
        "plt.yticks(rotation=0)\n",
        "plt.show()"
      ],
      "metadata": {
        "id": "7FiRnnKZnOO5"
      },
      "execution_count": null,
      "outputs": []
    },
    {
      "cell_type": "markdown",
      "source": [
        "##### 1. Why did you pick the specific chart?"
      ],
      "metadata": {
        "id": "n2mdWutGnOO5"
      }
    },
    {
      "cell_type": "markdown",
      "source": [
        "The correlation heatmap is chosen for its ability to visually represent the relationships between multiple numerical variables in a dataset. By displaying correlation coefficients as colors, it allows for quick identification of strong positive or negative correlations, as well as potential multicollinearity issues. This visual approach simplifies the understanding of complex interrelationships among variables, making it a powerful tool for exploratory data analysis."
      ],
      "metadata": {
        "id": "9_ElImLsnOO6"
      }
    },
    {
      "cell_type": "markdown",
      "source": [
        "##### 2. What is/are the insight(s) found from the chart?"
      ],
      "metadata": {
        "id": "9WerCLQxnOO6"
      }
    },
    {
      "cell_type": "markdown",
      "source": [
        "The insights from the correlation heatmap typically include:\n",
        "\n",
        "1. **Strong Positive Correlations**: Variables that increase together, identified by high positive correlation coefficients (close to +1).\n",
        "2. **Strong Negative Correlations**: Variables where one decreases as the other increases, identified by high negative correlation coefficients (close to -1).\n",
        "3. **Weak or No Correlations**: Variables with little to no linear relationship, indicated by coefficients close to 0.\n",
        "4. **Potential Multicollinearity**: Pairs of variables with very high correlations, which could indicate redundancy and potential issues in regression models.\n",
        "\n",
        "These insights help in understanding the relationships between variables, guiding further analysis and model building."
      ],
      "metadata": {
        "id": "uVYwk4uLnOO6"
      }
    },
    {
      "cell_type": "markdown",
      "source": [
        "#### Chart - 16 - Pair Plot"
      ],
      "metadata": {
        "id": "q29F0dvdveiT"
      }
    },
    {
      "cell_type": "code",
      "source": [
        "# Pair Plot visualization code\n",
        "sns.pairplot(df)"
      ],
      "metadata": {
        "id": "o58-TEIhveiU"
      },
      "execution_count": null,
      "outputs": []
    },
    {
      "cell_type": "markdown",
      "source": [
        "##### 1. Why did you pick the specific chart?"
      ],
      "metadata": {
        "id": "EXh0U9oCveiU"
      }
    },
    {
      "cell_type": "markdown",
      "source": [
        "The pair plot is selected for its ability to provide a comprehensive view of the relationships between multiple pairs of variables in a dataset. It simultaneously displays scatter plots for each pair of variables and histograms for their individual distributions. This makes it a powerful tool for detecting patterns, correlations, and potential outliers, facilitating a deeper understanding of the data's structure and inter-variable relationships."
      ],
      "metadata": {
        "id": "eMmPjTByveiU"
      }
    },
    {
      "cell_type": "markdown",
      "source": [
        "##### 2. What is/are the insight(s) found from the chart?"
      ],
      "metadata": {
        "id": "22aHeOlLveiV"
      }
    },
    {
      "cell_type": "markdown",
      "source": [
        "Insights from the pair plot typically include:\n",
        "\n",
        "1. **Variable Relationships**: Identification of linear or non-linear relationships between pairs of variables.\n",
        "2. **Correlations**: Visual clues about positive or negative correlations between variables.\n",
        "3. **Distributions**: Understanding the distribution of individual variables through histograms.\n",
        "4. **Outliers**: Detection of outliers and unusual data points in the scatter plots.\n",
        "5. **Clusters**: Identification of potential clusters or groupings within the data.\n",
        "\n",
        "These insights help in forming hypotheses and guiding further analysis."
      ],
      "metadata": {
        "id": "uPQ8RGwHveiV"
      }
    },
    {
      "cell_type": "markdown",
      "source": [
        "## **5. Solution to Business Objective**"
      ],
      "metadata": {
        "id": "JcMwzZxoAimU"
      }
    },
    {
      "cell_type": "markdown",
      "source": [
        "#### What do you suggest the client to achieve Business Objective ?\n",
        "Explain Briefly."
      ],
      "metadata": {
        "id": "8G2x9gOozGDZ"
      }
    },
    {
      "cell_type": "markdown",
      "source": [
        "To achieve the business objective of understanding fuel system preferences across different car brands and engine configurations, I suggest the following steps:\n",
        "\n",
        "### 1. **Targeted Product Development and Marketing**\n",
        "- **Product Development**: Use insights from the EDA to inform the development of new models or updates to existing models. Focus on the configurations that are most popular among consumers.\n",
        "- **Marketing Strategies**: Tailor marketing campaigns to highlight the most popular and preferred configurations. Use the data to identify key selling points that resonate with the target audience.\n",
        "\n",
        "### 2. **Inventory Management**\n",
        "- **Optimize Inventory Levels**: Adjust production and inventory levels based on the popularity of different configurations. Ensure that high-demand models are readily available while minimizing overstock of less popular models.\n",
        "- **Forecasting Demand**: Use historical data and trends identified in the analysis to forecast future demand more accurately, reducing the risk of stockouts or excess inventory.\n",
        "\n",
        "### 3. **Customer Segmentation and Personalization**\n",
        "- **Segment the Market**: Identify different customer segments based on their preferences for specific fuel systems and configurations. Develop targeted strategies for each segment to maximize sales and customer satisfaction.\n",
        "- **Personalized Offers**: Create personalized marketing offers and promotions based on the identified preferences of each customer segment. This can increase engagement and conversion rates.\n",
        "\n",
        "### 4. **Continuous Monitoring and Analysis**\n",
        "- **Regular Updates**: Continuously monitor market trends and update the analysis regularly to stay informed about changing consumer preferences.\n",
        "- **Feedback Loop**: Establish a feedback loop where sales data and customer feedback are used to refine the analysis and inform future business decisions.\n",
        "\n",
        "### 5. **Innovation and Diversification**\n",
        "- **Explore Niche Markets**: While focusing on popular configurations, do not neglect niche markets. Explore opportunities to innovate and offer unique configurations that might cater to emerging or underserved market segments.\n",
        "- **Balance Innovation and Demand**: Strive for a balance between catering to current demand and fostering innovation. Introduce new features or configurations that could set trends and attract a broader audience.\n",
        "\n",
        "### 6. **Data-Driven Decision Making**\n",
        "- **Leverage Data Insights**: Use the insights gained from the analysis to make informed, data-driven decisions across all aspects of the business, from product development to marketing and sales strategies.\n",
        "- **Avoid Assumptions**: Base strategic decisions on robust data analysis rather than assumptions, reducing the risk of costly mistakes.\n",
        "\n",
        "By implementing these strategies, the client can effectively align their offerings with market demand, optimize their operations, and achieve a positive business impact."
      ],
      "metadata": {
        "id": "pASKb0qOza21"
      }
    },
    {
      "cell_type": "markdown",
      "source": [
        "# **Conclusion**"
      ],
      "metadata": {
        "id": "gCX9965dhzqZ"
      }
    },
    {
      "cell_type": "markdown",
      "source": [
        "Write the conclusion here."
      ],
      "metadata": {
        "id": "Fjb1IsQkh3yE"
      }
    },
    {
      "cell_type": "markdown",
      "source": [
        "### Conclusion\n",
        "\n",
        "In this EDA Capstone Project, we embarked on a comprehensive analysis of fuel system preferences across different car brands and engine configurations to uncover valuable insights that can drive strategic business decisions. Through meticulous data exploration and visualization, we achieved the following key outcomes:\n",
        "\n",
        "1. **Understanding Market Preferences**:\n",
        "   - We identified distinct patterns in fuel system preferences, highlighting which configurations are favored by consumers for various car brands and engine types. This knowledge is crucial for aligning product offerings with market demand.\n",
        "\n",
        "2. **Positive Business Impact**:\n",
        "   - Our analysis revealed opportunities for enhanced market positioning, targeted marketing, and informed product development. By focusing on popular configurations, manufacturers can optimize inventory management and increase sales, leading to a more robust market presence.\n",
        "\n",
        "3. **Potential Risks and Mitigations**:\n",
        "   - We also considered potential risks such as over-reliance on current trends and the misinterpretation of data. By recognizing these pitfalls, we can ensure a balanced approach that fosters innovation and prevents strategic missteps.\n",
        "\n",
        "4. **Strategic Recommendations**:\n",
        "   - To achieve the business objective, we recommended targeted product development and marketing, optimized inventory management, customer segmentation, continuous monitoring, and a balance between innovation and demand. These strategies collectively ensure that the client remains responsive to market dynamics and consumer preferences.\n",
        "\n",
        "### Final Thoughts\n",
        "\n",
        "The insights gained from this exploratory data analysis provide a solid foundation for making data-driven decisions that enhance business performance. By leveraging these insights, the client can achieve better market alignment, improve operational efficiency, and ultimately drive positive business growth. This project underscores the importance of ongoing analysis and adaptation in a rapidly evolving market landscape.\n",
        "\n"
      ],
      "metadata": {
        "id": "UrqYC8mv5clp"
      }
    },
    {
      "cell_type": "markdown",
      "source": [
        "### ***Hurrah! You have successfully completed your EDA Capstone Project !!!***"
      ],
      "metadata": {
        "id": "gIfDvo9L0UH2"
      }
    }
  ]
}
